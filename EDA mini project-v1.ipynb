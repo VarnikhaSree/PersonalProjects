{
 "cells": [
  {
   "cell_type": "code",
   "execution_count": 1,
   "id": "44f1bf23",
   "metadata": {},
   "outputs": [],
   "source": [
    "import pyforest\n",
    "import scipy.stats as st"
   ]
  },
  {
   "cell_type": "markdown",
   "id": "98b76e38",
   "metadata": {},
   "source": [
    "#### 1. Read the data set, clean the data and prepare a final dataset to be used for analysis."
   ]
  },
  {
   "cell_type": "code",
   "execution_count": 2,
   "id": "01e96b32",
   "metadata": {},
   "outputs": [
    {
     "data": {
      "application/javascript": [
       "\n",
       "        if (window._pyforest_update_imports_cell) { window._pyforest_update_imports_cell('import pandas as pd'); }\n",
       "    "
      ],
      "text/plain": [
       "<IPython.core.display.Javascript object>"
      ]
     },
     "metadata": {},
     "output_type": "display_data"
    }
   ],
   "source": [
    "df=pd.read_csv(\"Basketball.csv\")"
   ]
  },
  {
   "cell_type": "code",
   "execution_count": 3,
   "id": "4f990a8b",
   "metadata": {},
   "outputs": [
    {
     "data": {
      "text/html": [
       "<div>\n",
       "<style scoped>\n",
       "    .dataframe tbody tr th:only-of-type {\n",
       "        vertical-align: middle;\n",
       "    }\n",
       "\n",
       "    .dataframe tbody tr th {\n",
       "        vertical-align: top;\n",
       "    }\n",
       "\n",
       "    .dataframe thead th {\n",
       "        text-align: right;\n",
       "    }\n",
       "</style>\n",
       "<table border=\"1\" class=\"dataframe\">\n",
       "  <thead>\n",
       "    <tr style=\"text-align: right;\">\n",
       "      <th></th>\n",
       "      <th>Team</th>\n",
       "      <th>Tournament</th>\n",
       "      <th>Score</th>\n",
       "      <th>PlayedGames</th>\n",
       "      <th>WonGames</th>\n",
       "      <th>DrawnGames</th>\n",
       "      <th>LostGames</th>\n",
       "      <th>BasketScored</th>\n",
       "      <th>BasketGiven</th>\n",
       "      <th>TournamentChampion</th>\n",
       "      <th>Runner-up</th>\n",
       "      <th>TeamLaunch</th>\n",
       "      <th>HighestPositionHeld</th>\n",
       "    </tr>\n",
       "  </thead>\n",
       "  <tbody>\n",
       "    <tr>\n",
       "      <th>0</th>\n",
       "      <td>Team 1</td>\n",
       "      <td>86</td>\n",
       "      <td>4385</td>\n",
       "      <td>2762</td>\n",
       "      <td>1647</td>\n",
       "      <td>552</td>\n",
       "      <td>563</td>\n",
       "      <td>5947</td>\n",
       "      <td>3140</td>\n",
       "      <td>33</td>\n",
       "      <td>23</td>\n",
       "      <td>1929</td>\n",
       "      <td>1</td>\n",
       "    </tr>\n",
       "    <tr>\n",
       "      <th>1</th>\n",
       "      <td>Team 2</td>\n",
       "      <td>86</td>\n",
       "      <td>4262</td>\n",
       "      <td>2762</td>\n",
       "      <td>1581</td>\n",
       "      <td>573</td>\n",
       "      <td>608</td>\n",
       "      <td>5900</td>\n",
       "      <td>3114</td>\n",
       "      <td>25</td>\n",
       "      <td>25</td>\n",
       "      <td>1929</td>\n",
       "      <td>1</td>\n",
       "    </tr>\n",
       "    <tr>\n",
       "      <th>2</th>\n",
       "      <td>Team 3</td>\n",
       "      <td>80</td>\n",
       "      <td>3442</td>\n",
       "      <td>2614</td>\n",
       "      <td>1241</td>\n",
       "      <td>598</td>\n",
       "      <td>775</td>\n",
       "      <td>4534</td>\n",
       "      <td>3309</td>\n",
       "      <td>10</td>\n",
       "      <td>8</td>\n",
       "      <td>1929</td>\n",
       "      <td>1</td>\n",
       "    </tr>\n",
       "    <tr>\n",
       "      <th>3</th>\n",
       "      <td>Team 4</td>\n",
       "      <td>82</td>\n",
       "      <td>3386</td>\n",
       "      <td>2664</td>\n",
       "      <td>1187</td>\n",
       "      <td>616</td>\n",
       "      <td>861</td>\n",
       "      <td>4398</td>\n",
       "      <td>3469</td>\n",
       "      <td>6</td>\n",
       "      <td>6</td>\n",
       "      <td>1931to32</td>\n",
       "      <td>1</td>\n",
       "    </tr>\n",
       "    <tr>\n",
       "      <th>4</th>\n",
       "      <td>Team 5</td>\n",
       "      <td>86</td>\n",
       "      <td>3368</td>\n",
       "      <td>2762</td>\n",
       "      <td>1209</td>\n",
       "      <td>633</td>\n",
       "      <td>920</td>\n",
       "      <td>4631</td>\n",
       "      <td>3700</td>\n",
       "      <td>8</td>\n",
       "      <td>7</td>\n",
       "      <td>1929</td>\n",
       "      <td>1</td>\n",
       "    </tr>\n",
       "  </tbody>\n",
       "</table>\n",
       "</div>"
      ],
      "text/plain": [
       "     Team  Tournament Score PlayedGames WonGames DrawnGames LostGames  \\\n",
       "0  Team 1          86  4385        2762     1647        552       563   \n",
       "1  Team 2          86  4262        2762     1581        573       608   \n",
       "2  Team 3          80  3442        2614     1241        598       775   \n",
       "3  Team 4          82  3386        2664     1187        616       861   \n",
       "4  Team 5          86  3368        2762     1209        633       920   \n",
       "\n",
       "  BasketScored BasketGiven TournamentChampion Runner-up TeamLaunch  \\\n",
       "0         5947        3140                 33        23       1929   \n",
       "1         5900        3114                 25        25       1929   \n",
       "2         4534        3309                 10         8       1929   \n",
       "3         4398        3469                  6         6   1931to32   \n",
       "4         4631        3700                  8         7       1929   \n",
       "\n",
       "   HighestPositionHeld  \n",
       "0                    1  \n",
       "1                    1  \n",
       "2                    1  \n",
       "3                    1  \n",
       "4                    1  "
      ]
     },
     "execution_count": 3,
     "metadata": {},
     "output_type": "execute_result"
    }
   ],
   "source": [
    "df.head()"
   ]
  },
  {
   "cell_type": "markdown",
   "id": "7d24ac66",
   "metadata": {},
   "source": [
    "#### Let us find the shape of the data."
   ]
  },
  {
   "cell_type": "code",
   "execution_count": 4,
   "id": "ff6a9616",
   "metadata": {},
   "outputs": [
    {
     "data": {
      "text/plain": [
       "(61, 13)"
      ]
     },
     "execution_count": 4,
     "metadata": {},
     "output_type": "execute_result"
    }
   ],
   "source": [
    "df.shape"
   ]
  },
  {
   "cell_type": "code",
   "execution_count": 5,
   "id": "56df0f5c",
   "metadata": {},
   "outputs": [
    {
     "data": {
      "text/plain": [
       "Team                   object\n",
       "Tournament              int64\n",
       "Score                  object\n",
       "PlayedGames            object\n",
       "WonGames               object\n",
       "DrawnGames             object\n",
       "LostGames              object\n",
       "BasketScored           object\n",
       "BasketGiven            object\n",
       "TournamentChampion     object\n",
       "Runner-up              object\n",
       "TeamLaunch             object\n",
       "HighestPositionHeld     int64\n",
       "dtype: object"
      ]
     },
     "execution_count": 5,
     "metadata": {},
     "output_type": "execute_result"
    }
   ],
   "source": [
    "df.dtypes"
   ]
  },
  {
   "cell_type": "markdown",
   "id": "38fd09cc",
   "metadata": {},
   "source": [
    "Looking into the data types of the variables we can see that the columns like Score, Played games etc. have either float/integer values in the dataset but here its mentioned as object. Thus, we'll change these data types accordingly."
   ]
  },
  {
   "cell_type": "code",
   "execution_count": 6,
   "id": "890addeb",
   "metadata": {},
   "outputs": [
    {
     "data": {
      "application/javascript": [
       "\n",
       "        if (window._pyforest_update_imports_cell) { window._pyforest_update_imports_cell('import pandas as pd'); }\n",
       "    "
      ],
      "text/plain": [
       "<IPython.core.display.Javascript object>"
      ]
     },
     "metadata": {},
     "output_type": "display_data"
    }
   ],
   "source": [
    "df[['Score', 'PlayedGames', 'WonGames', 'DrawnGames','LostGames', 'BasketScored', 'BasketGiven', 'TournamentChampion','Runner-up']] = df[['Score', 'PlayedGames', 'WonGames', 'DrawnGames','LostGames', 'BasketScored', 'BasketGiven', 'TournamentChampion','Runner-up']].apply(pd.to_numeric,errors='coerce')"
   ]
  },
  {
   "cell_type": "code",
   "execution_count": 7,
   "id": "d5bd9258",
   "metadata": {},
   "outputs": [
    {
     "data": {
      "text/plain": [
       "Team                    object\n",
       "Tournament               int64\n",
       "Score                  float64\n",
       "PlayedGames            float64\n",
       "WonGames               float64\n",
       "DrawnGames             float64\n",
       "LostGames              float64\n",
       "BasketScored           float64\n",
       "BasketGiven            float64\n",
       "TournamentChampion     float64\n",
       "Runner-up              float64\n",
       "TeamLaunch              object\n",
       "HighestPositionHeld      int64\n",
       "dtype: object"
      ]
     },
     "execution_count": 7,
     "metadata": {},
     "output_type": "execute_result"
    }
   ],
   "source": [
    "df.dtypes"
   ]
  },
  {
   "cell_type": "markdown",
   "id": "713673d3",
   "metadata": {},
   "source": [
    "#### Lets check the presence of null values in the dataset."
   ]
  },
  {
   "cell_type": "code",
   "execution_count": 8,
   "id": "0ee5a504",
   "metadata": {},
   "outputs": [
    {
     "data": {
      "text/plain": [
       "Team                    0\n",
       "Tournament              0\n",
       "Score                   1\n",
       "PlayedGames             1\n",
       "WonGames                1\n",
       "DrawnGames              1\n",
       "LostGames               1\n",
       "BasketScored            1\n",
       "BasketGiven             1\n",
       "TournamentChampion     52\n",
       "Runner-up              48\n",
       "TeamLaunch              0\n",
       "HighestPositionHeld     0\n",
       "dtype: int64"
      ]
     },
     "execution_count": 8,
     "metadata": {},
     "output_type": "execute_result"
    }
   ],
   "source": [
    "df.isnull().sum() "
   ]
  },
  {
   "cell_type": "markdown",
   "id": "9b7e5095",
   "metadata": {},
   "source": [
    "From the above output, columns like Tournament Champion, runner-up have huge number of null values."
   ]
  },
  {
   "cell_type": "code",
   "execution_count": 9,
   "id": "61f493ef",
   "metadata": {},
   "outputs": [
    {
     "data": {
      "application/javascript": [
       "\n",
       "        if (window._pyforest_update_imports_cell) { window._pyforest_update_imports_cell('import numpy as np\\nimport pandas as pd'); }\n",
       "    "
      ],
      "text/plain": [
       "<IPython.core.display.Javascript object>"
      ]
     },
     "metadata": {},
     "output_type": "display_data"
    }
   ],
   "source": [
    "df.replace(np.nan, 0, inplace=True)"
   ]
  },
  {
   "cell_type": "markdown",
   "id": "b58fc6a0",
   "metadata": {},
   "source": [
    "Replacing null values with 0 for ease of calculations and readability since most of the columns present are numerical."
   ]
  },
  {
   "cell_type": "code",
   "execution_count": 10,
   "id": "e6352cd4",
   "metadata": {},
   "outputs": [
    {
     "data": {
      "text/plain": [
       "Team                   0\n",
       "Tournament             0\n",
       "Score                  0\n",
       "PlayedGames            0\n",
       "WonGames               0\n",
       "DrawnGames             0\n",
       "LostGames              0\n",
       "BasketScored           0\n",
       "BasketGiven            0\n",
       "TournamentChampion     0\n",
       "Runner-up              0\n",
       "TeamLaunch             0\n",
       "HighestPositionHeld    0\n",
       "dtype: int64"
      ]
     },
     "execution_count": 10,
     "metadata": {},
     "output_type": "execute_result"
    }
   ],
   "source": [
    "df.isnull().sum()"
   ]
  },
  {
   "cell_type": "markdown",
   "id": "3e282c66",
   "metadata": {},
   "source": [
    "So, we can see now there isnt any null values present in any columns."
   ]
  },
  {
   "cell_type": "markdown",
   "id": "88e20c7a",
   "metadata": {},
   "source": [
    "#### To check the presence of duplicate values:"
   ]
  },
  {
   "cell_type": "code",
   "execution_count": 11,
   "id": "2b144dcf",
   "metadata": {},
   "outputs": [
    {
     "name": "stdout",
     "output_type": "stream",
     "text": [
      "Duplicate Rows : Empty DataFrame\n",
      "Columns: [Team, Tournament, Score, PlayedGames, WonGames, DrawnGames, LostGames, BasketScored, BasketGiven, TournamentChampion, Runner-up, TeamLaunch, HighestPositionHeld]\n",
      "Index: []\n"
     ]
    }
   ],
   "source": [
    "duplicate = df[df.duplicated()]\n",
    "print(\"Duplicate Rows :\",duplicate)"
   ]
  },
  {
   "cell_type": "markdown",
   "id": "f11dcb04",
   "metadata": {},
   "source": [
    "The empty Dataframe denotes there are no duplicate values."
   ]
  },
  {
   "cell_type": "markdown",
   "id": "9509ab6a",
   "metadata": {},
   "source": [
    "#### By looking into column wise, we can see that TeamLaunch isnt proper, its also accompanied by some garbage values. So, we can delete that."
   ]
  },
  {
   "cell_type": "code",
   "execution_count": 12,
   "id": "0d03fb36",
   "metadata": {},
   "outputs": [
    {
     "data": {
      "text/plain": [
       "0         1929\n",
       "1         1929\n",
       "2         1929\n",
       "3     1931to32\n",
       "4         1929\n",
       "        ...   \n",
       "56     2009-10\n",
       "57     1956-57\n",
       "58     1951~52\n",
       "59     1955-56\n",
       "60     2017~18\n",
       "Name: TeamLaunch, Length: 61, dtype: object"
      ]
     },
     "execution_count": 12,
     "metadata": {},
     "output_type": "execute_result"
    }
   ],
   "source": [
    "df['TeamLaunch']"
   ]
  },
  {
   "cell_type": "code",
   "execution_count": 13,
   "id": "bec1d82c",
   "metadata": {},
   "outputs": [
    {
     "data": {
      "text/plain": [
       "0     1929\n",
       "1     1929\n",
       "2     1929\n",
       "3     1931\n",
       "4     1929\n",
       "      ... \n",
       "56    2009\n",
       "57    1956\n",
       "58    1951\n",
       "59    1955\n",
       "60    2017\n",
       "Name: TeamLaunch, Length: 61, dtype: object"
      ]
     },
     "execution_count": 13,
     "metadata": {},
     "output_type": "execute_result"
    }
   ],
   "source": [
    "df['TeamLaunch']= df['TeamLaunch'].apply(lambda x: x[0:4])\n",
    "df['TeamLaunch'] #keeping initial year as the origin year"
   ]
  },
  {
   "cell_type": "code",
   "execution_count": 14,
   "id": "9157eb1a",
   "metadata": {},
   "outputs": [
    {
     "data": {
      "text/html": [
       "<div>\n",
       "<style scoped>\n",
       "    .dataframe tbody tr th:only-of-type {\n",
       "        vertical-align: middle;\n",
       "    }\n",
       "\n",
       "    .dataframe tbody tr th {\n",
       "        vertical-align: top;\n",
       "    }\n",
       "\n",
       "    .dataframe thead th {\n",
       "        text-align: right;\n",
       "    }\n",
       "</style>\n",
       "<table border=\"1\" class=\"dataframe\">\n",
       "  <thead>\n",
       "    <tr style=\"text-align: right;\">\n",
       "      <th></th>\n",
       "      <th>Tournament</th>\n",
       "      <th>Score</th>\n",
       "      <th>PlayedGames</th>\n",
       "      <th>WonGames</th>\n",
       "      <th>DrawnGames</th>\n",
       "      <th>LostGames</th>\n",
       "      <th>BasketScored</th>\n",
       "      <th>BasketGiven</th>\n",
       "      <th>TournamentChampion</th>\n",
       "      <th>Runner-up</th>\n",
       "      <th>HighestPositionHeld</th>\n",
       "    </tr>\n",
       "  </thead>\n",
       "  <tbody>\n",
       "    <tr>\n",
       "      <th>count</th>\n",
       "      <td>61.000000</td>\n",
       "      <td>61.000000</td>\n",
       "      <td>61.000000</td>\n",
       "      <td>61.000000</td>\n",
       "      <td>61.000000</td>\n",
       "      <td>61.000000</td>\n",
       "      <td>61.000000</td>\n",
       "      <td>61.000000</td>\n",
       "      <td>61.000000</td>\n",
       "      <td>61.000000</td>\n",
       "      <td>61.000000</td>\n",
       "    </tr>\n",
       "    <tr>\n",
       "      <th>mean</th>\n",
       "      <td>24.000000</td>\n",
       "      <td>901.426230</td>\n",
       "      <td>796.819672</td>\n",
       "      <td>303.967213</td>\n",
       "      <td>188.934426</td>\n",
       "      <td>303.754098</td>\n",
       "      <td>1140.344262</td>\n",
       "      <td>1140.229508</td>\n",
       "      <td>1.426230</td>\n",
       "      <td>1.409836</td>\n",
       "      <td>7.081967</td>\n",
       "    </tr>\n",
       "    <tr>\n",
       "      <th>std</th>\n",
       "      <td>26.827225</td>\n",
       "      <td>1134.899121</td>\n",
       "      <td>876.282765</td>\n",
       "      <td>406.991030</td>\n",
       "      <td>201.799477</td>\n",
       "      <td>294.708594</td>\n",
       "      <td>1506.740211</td>\n",
       "      <td>1163.710766</td>\n",
       "      <td>5.472535</td>\n",
       "      <td>4.540107</td>\n",
       "      <td>5.276663</td>\n",
       "    </tr>\n",
       "    <tr>\n",
       "      <th>min</th>\n",
       "      <td>1.000000</td>\n",
       "      <td>0.000000</td>\n",
       "      <td>0.000000</td>\n",
       "      <td>0.000000</td>\n",
       "      <td>0.000000</td>\n",
       "      <td>0.000000</td>\n",
       "      <td>0.000000</td>\n",
       "      <td>0.000000</td>\n",
       "      <td>0.000000</td>\n",
       "      <td>0.000000</td>\n",
       "      <td>1.000000</td>\n",
       "    </tr>\n",
       "    <tr>\n",
       "      <th>25%</th>\n",
       "      <td>4.000000</td>\n",
       "      <td>96.000000</td>\n",
       "      <td>114.000000</td>\n",
       "      <td>34.000000</td>\n",
       "      <td>24.000000</td>\n",
       "      <td>62.000000</td>\n",
       "      <td>153.000000</td>\n",
       "      <td>221.000000</td>\n",
       "      <td>0.000000</td>\n",
       "      <td>0.000000</td>\n",
       "      <td>3.000000</td>\n",
       "    </tr>\n",
       "    <tr>\n",
       "      <th>50%</th>\n",
       "      <td>12.000000</td>\n",
       "      <td>375.000000</td>\n",
       "      <td>423.000000</td>\n",
       "      <td>123.000000</td>\n",
       "      <td>95.000000</td>\n",
       "      <td>197.000000</td>\n",
       "      <td>430.000000</td>\n",
       "      <td>632.000000</td>\n",
       "      <td>0.000000</td>\n",
       "      <td>0.000000</td>\n",
       "      <td>6.000000</td>\n",
       "    </tr>\n",
       "    <tr>\n",
       "      <th>75%</th>\n",
       "      <td>38.000000</td>\n",
       "      <td>1351.000000</td>\n",
       "      <td>1318.000000</td>\n",
       "      <td>426.000000</td>\n",
       "      <td>330.000000</td>\n",
       "      <td>563.000000</td>\n",
       "      <td>1642.000000</td>\n",
       "      <td>1951.000000</td>\n",
       "      <td>0.000000</td>\n",
       "      <td>0.000000</td>\n",
       "      <td>10.000000</td>\n",
       "    </tr>\n",
       "    <tr>\n",
       "      <th>max</th>\n",
       "      <td>86.000000</td>\n",
       "      <td>4385.000000</td>\n",
       "      <td>2762.000000</td>\n",
       "      <td>1647.000000</td>\n",
       "      <td>633.000000</td>\n",
       "      <td>1070.000000</td>\n",
       "      <td>5947.000000</td>\n",
       "      <td>3889.000000</td>\n",
       "      <td>33.000000</td>\n",
       "      <td>25.000000</td>\n",
       "      <td>20.000000</td>\n",
       "    </tr>\n",
       "  </tbody>\n",
       "</table>\n",
       "</div>"
      ],
      "text/plain": [
       "       Tournament        Score  PlayedGames     WonGames  DrawnGames  \\\n",
       "count   61.000000    61.000000    61.000000    61.000000   61.000000   \n",
       "mean    24.000000   901.426230   796.819672   303.967213  188.934426   \n",
       "std     26.827225  1134.899121   876.282765   406.991030  201.799477   \n",
       "min      1.000000     0.000000     0.000000     0.000000    0.000000   \n",
       "25%      4.000000    96.000000   114.000000    34.000000   24.000000   \n",
       "50%     12.000000   375.000000   423.000000   123.000000   95.000000   \n",
       "75%     38.000000  1351.000000  1318.000000   426.000000  330.000000   \n",
       "max     86.000000  4385.000000  2762.000000  1647.000000  633.000000   \n",
       "\n",
       "         LostGames  BasketScored  BasketGiven  TournamentChampion  Runner-up  \\\n",
       "count    61.000000     61.000000    61.000000           61.000000  61.000000   \n",
       "mean    303.754098   1140.344262  1140.229508            1.426230   1.409836   \n",
       "std     294.708594   1506.740211  1163.710766            5.472535   4.540107   \n",
       "min       0.000000      0.000000     0.000000            0.000000   0.000000   \n",
       "25%      62.000000    153.000000   221.000000            0.000000   0.000000   \n",
       "50%     197.000000    430.000000   632.000000            0.000000   0.000000   \n",
       "75%     563.000000   1642.000000  1951.000000            0.000000   0.000000   \n",
       "max    1070.000000   5947.000000  3889.000000           33.000000  25.000000   \n",
       "\n",
       "       HighestPositionHeld  \n",
       "count            61.000000  \n",
       "mean              7.081967  \n",
       "std               5.276663  \n",
       "min               1.000000  \n",
       "25%               3.000000  \n",
       "50%               6.000000  \n",
       "75%              10.000000  \n",
       "max              20.000000  "
      ]
     },
     "execution_count": 14,
     "metadata": {},
     "output_type": "execute_result"
    }
   ],
   "source": [
    "df.describe()"
   ]
  },
  {
   "cell_type": "markdown",
   "id": "af26e54e",
   "metadata": {},
   "source": [
    "#### 2. Perform detailed statistical analysis and EDA using univariate, bi-variate and multivariate EDA techniques to get data driven insights on recommending which teams they can approach which will be a deal win for them.. Also as a data and statistics expert you have to develop a detailed performance report using this data. Hint: Use statistical techniques and visualization techniques to come up with useful metrics and reporting. Find out the best performing team, oldest team, team with highest goals, team with lowest performance etc. and many more."
   ]
  },
  {
   "cell_type": "markdown",
   "id": "138d62ad",
   "metadata": {},
   "source": [
    "### Best performing teams"
   ]
  },
  {
   "cell_type": "code",
   "execution_count": 15,
   "id": "421224a7",
   "metadata": {},
   "outputs": [
    {
     "data": {
      "text/html": [
       "<div>\n",
       "<style scoped>\n",
       "    .dataframe tbody tr th:only-of-type {\n",
       "        vertical-align: middle;\n",
       "    }\n",
       "\n",
       "    .dataframe tbody tr th {\n",
       "        vertical-align: top;\n",
       "    }\n",
       "\n",
       "    .dataframe thead th {\n",
       "        text-align: right;\n",
       "    }\n",
       "</style>\n",
       "<table border=\"1\" class=\"dataframe\">\n",
       "  <thead>\n",
       "    <tr style=\"text-align: right;\">\n",
       "      <th></th>\n",
       "      <th>Team</th>\n",
       "      <th>Tournament</th>\n",
       "      <th>Score</th>\n",
       "      <th>PlayedGames</th>\n",
       "      <th>WonGames</th>\n",
       "      <th>DrawnGames</th>\n",
       "      <th>LostGames</th>\n",
       "      <th>BasketScored</th>\n",
       "      <th>BasketGiven</th>\n",
       "      <th>TournamentChampion</th>\n",
       "      <th>Runner-up</th>\n",
       "      <th>TeamLaunch</th>\n",
       "      <th>HighestPositionHeld</th>\n",
       "    </tr>\n",
       "  </thead>\n",
       "  <tbody>\n",
       "    <tr>\n",
       "      <th>0</th>\n",
       "      <td>Team 1</td>\n",
       "      <td>86</td>\n",
       "      <td>4385.0</td>\n",
       "      <td>2762.0</td>\n",
       "      <td>1647.0</td>\n",
       "      <td>552.0</td>\n",
       "      <td>563.0</td>\n",
       "      <td>5947.0</td>\n",
       "      <td>3140.0</td>\n",
       "      <td>33.0</td>\n",
       "      <td>23.0</td>\n",
       "      <td>1929</td>\n",
       "      <td>1</td>\n",
       "    </tr>\n",
       "    <tr>\n",
       "      <th>1</th>\n",
       "      <td>Team 2</td>\n",
       "      <td>86</td>\n",
       "      <td>4262.0</td>\n",
       "      <td>2762.0</td>\n",
       "      <td>1581.0</td>\n",
       "      <td>573.0</td>\n",
       "      <td>608.0</td>\n",
       "      <td>5900.0</td>\n",
       "      <td>3114.0</td>\n",
       "      <td>25.0</td>\n",
       "      <td>25.0</td>\n",
       "      <td>1929</td>\n",
       "      <td>1</td>\n",
       "    </tr>\n",
       "  </tbody>\n",
       "</table>\n",
       "</div>"
      ],
      "text/plain": [
       "     Team  Tournament   Score  PlayedGames  WonGames  DrawnGames  LostGames  \\\n",
       "0  Team 1          86  4385.0       2762.0    1647.0       552.0      563.0   \n",
       "1  Team 2          86  4262.0       2762.0    1581.0       573.0      608.0   \n",
       "\n",
       "   BasketScored  BasketGiven  TournamentChampion  Runner-up TeamLaunch  \\\n",
       "0        5947.0       3140.0                33.0       23.0       1929   \n",
       "1        5900.0       3114.0                25.0       25.0       1929   \n",
       "\n",
       "   HighestPositionHeld  \n",
       "0                    1  \n",
       "1                    1  "
      ]
     },
     "execution_count": 15,
     "metadata": {},
     "output_type": "execute_result"
    }
   ],
   "source": [
    "df.head(2)"
   ]
  },
  {
   "cell_type": "code",
   "execution_count": 16,
   "id": "e92965e9",
   "metadata": {},
   "outputs": [
    {
     "data": {
      "text/html": [
       "<div>\n",
       "<style scoped>\n",
       "    .dataframe tbody tr th:only-of-type {\n",
       "        vertical-align: middle;\n",
       "    }\n",
       "\n",
       "    .dataframe tbody tr th {\n",
       "        vertical-align: top;\n",
       "    }\n",
       "\n",
       "    .dataframe thead th {\n",
       "        text-align: right;\n",
       "    }\n",
       "</style>\n",
       "<table border=\"1\" class=\"dataframe\">\n",
       "  <thead>\n",
       "    <tr style=\"text-align: right;\">\n",
       "      <th></th>\n",
       "      <th>Team</th>\n",
       "      <th>Tournament</th>\n",
       "      <th>Score</th>\n",
       "      <th>PlayedGames</th>\n",
       "      <th>WonGames</th>\n",
       "      <th>DrawnGames</th>\n",
       "      <th>LostGames</th>\n",
       "      <th>BasketScored</th>\n",
       "      <th>BasketGiven</th>\n",
       "      <th>TournamentChampion</th>\n",
       "      <th>Runner-up</th>\n",
       "      <th>TeamLaunch</th>\n",
       "      <th>HighestPositionHeld</th>\n",
       "    </tr>\n",
       "  </thead>\n",
       "  <tbody>\n",
       "    <tr>\n",
       "      <th>0</th>\n",
       "      <td>Team 1</td>\n",
       "      <td>86</td>\n",
       "      <td>4385.0</td>\n",
       "      <td>2762.0</td>\n",
       "      <td>1647.0</td>\n",
       "      <td>552.0</td>\n",
       "      <td>563.0</td>\n",
       "      <td>5947.0</td>\n",
       "      <td>3140.0</td>\n",
       "      <td>33.0</td>\n",
       "      <td>23.0</td>\n",
       "      <td>1929</td>\n",
       "      <td>1</td>\n",
       "    </tr>\n",
       "    <tr>\n",
       "      <th>1</th>\n",
       "      <td>Team 2</td>\n",
       "      <td>86</td>\n",
       "      <td>4262.0</td>\n",
       "      <td>2762.0</td>\n",
       "      <td>1581.0</td>\n",
       "      <td>573.0</td>\n",
       "      <td>608.0</td>\n",
       "      <td>5900.0</td>\n",
       "      <td>3114.0</td>\n",
       "      <td>25.0</td>\n",
       "      <td>25.0</td>\n",
       "      <td>1929</td>\n",
       "      <td>1</td>\n",
       "    </tr>\n",
       "    <tr>\n",
       "      <th>2</th>\n",
       "      <td>Team 3</td>\n",
       "      <td>80</td>\n",
       "      <td>3442.0</td>\n",
       "      <td>2614.0</td>\n",
       "      <td>1241.0</td>\n",
       "      <td>598.0</td>\n",
       "      <td>775.0</td>\n",
       "      <td>4534.0</td>\n",
       "      <td>3309.0</td>\n",
       "      <td>10.0</td>\n",
       "      <td>8.0</td>\n",
       "      <td>1929</td>\n",
       "      <td>1</td>\n",
       "    </tr>\n",
       "    <tr>\n",
       "      <th>4</th>\n",
       "      <td>Team 5</td>\n",
       "      <td>86</td>\n",
       "      <td>3368.0</td>\n",
       "      <td>2762.0</td>\n",
       "      <td>1209.0</td>\n",
       "      <td>633.0</td>\n",
       "      <td>920.0</td>\n",
       "      <td>4631.0</td>\n",
       "      <td>3700.0</td>\n",
       "      <td>8.0</td>\n",
       "      <td>7.0</td>\n",
       "      <td>1929</td>\n",
       "      <td>1</td>\n",
       "    </tr>\n",
       "    <tr>\n",
       "      <th>3</th>\n",
       "      <td>Team 4</td>\n",
       "      <td>82</td>\n",
       "      <td>3386.0</td>\n",
       "      <td>2664.0</td>\n",
       "      <td>1187.0</td>\n",
       "      <td>616.0</td>\n",
       "      <td>861.0</td>\n",
       "      <td>4398.0</td>\n",
       "      <td>3469.0</td>\n",
       "      <td>6.0</td>\n",
       "      <td>6.0</td>\n",
       "      <td>1931</td>\n",
       "      <td>1</td>\n",
       "    </tr>\n",
       "    <tr>\n",
       "      <th>...</th>\n",
       "      <td>...</td>\n",
       "      <td>...</td>\n",
       "      <td>...</td>\n",
       "      <td>...</td>\n",
       "      <td>...</td>\n",
       "      <td>...</td>\n",
       "      <td>...</td>\n",
       "      <td>...</td>\n",
       "      <td>...</td>\n",
       "      <td>...</td>\n",
       "      <td>...</td>\n",
       "      <td>...</td>\n",
       "      <td>...</td>\n",
       "    </tr>\n",
       "    <tr>\n",
       "      <th>56</th>\n",
       "      <td>Team 57</td>\n",
       "      <td>1</td>\n",
       "      <td>34.0</td>\n",
       "      <td>38.0</td>\n",
       "      <td>8.0</td>\n",
       "      <td>10.0</td>\n",
       "      <td>20.0</td>\n",
       "      <td>38.0</td>\n",
       "      <td>66.0</td>\n",
       "      <td>0.0</td>\n",
       "      <td>0.0</td>\n",
       "      <td>2009</td>\n",
       "      <td>20</td>\n",
       "    </tr>\n",
       "    <tr>\n",
       "      <th>57</th>\n",
       "      <td>Team 58</td>\n",
       "      <td>1</td>\n",
       "      <td>22.0</td>\n",
       "      <td>30.0</td>\n",
       "      <td>7.0</td>\n",
       "      <td>8.0</td>\n",
       "      <td>15.0</td>\n",
       "      <td>37.0</td>\n",
       "      <td>57.0</td>\n",
       "      <td>0.0</td>\n",
       "      <td>0.0</td>\n",
       "      <td>1956</td>\n",
       "      <td>16</td>\n",
       "    </tr>\n",
       "    <tr>\n",
       "      <th>58</th>\n",
       "      <td>Team 59</td>\n",
       "      <td>1</td>\n",
       "      <td>19.0</td>\n",
       "      <td>30.0</td>\n",
       "      <td>7.0</td>\n",
       "      <td>5.0</td>\n",
       "      <td>18.0</td>\n",
       "      <td>51.0</td>\n",
       "      <td>85.0</td>\n",
       "      <td>0.0</td>\n",
       "      <td>0.0</td>\n",
       "      <td>1951</td>\n",
       "      <td>16</td>\n",
       "    </tr>\n",
       "    <tr>\n",
       "      <th>59</th>\n",
       "      <td>Team 60</td>\n",
       "      <td>1</td>\n",
       "      <td>14.0</td>\n",
       "      <td>30.0</td>\n",
       "      <td>5.0</td>\n",
       "      <td>4.0</td>\n",
       "      <td>21.0</td>\n",
       "      <td>34.0</td>\n",
       "      <td>65.0</td>\n",
       "      <td>0.0</td>\n",
       "      <td>0.0</td>\n",
       "      <td>1955</td>\n",
       "      <td>15</td>\n",
       "    </tr>\n",
       "    <tr>\n",
       "      <th>60</th>\n",
       "      <td>Team 61</td>\n",
       "      <td>1</td>\n",
       "      <td>0.0</td>\n",
       "      <td>0.0</td>\n",
       "      <td>0.0</td>\n",
       "      <td>0.0</td>\n",
       "      <td>0.0</td>\n",
       "      <td>0.0</td>\n",
       "      <td>0.0</td>\n",
       "      <td>0.0</td>\n",
       "      <td>0.0</td>\n",
       "      <td>2017</td>\n",
       "      <td>9</td>\n",
       "    </tr>\n",
       "  </tbody>\n",
       "</table>\n",
       "<p>61 rows × 13 columns</p>\n",
       "</div>"
      ],
      "text/plain": [
       "       Team  Tournament   Score  PlayedGames  WonGames  DrawnGames  LostGames  \\\n",
       "0    Team 1          86  4385.0       2762.0    1647.0       552.0      563.0   \n",
       "1    Team 2          86  4262.0       2762.0    1581.0       573.0      608.0   \n",
       "2    Team 3          80  3442.0       2614.0    1241.0       598.0      775.0   \n",
       "4    Team 5          86  3368.0       2762.0    1209.0       633.0      920.0   \n",
       "3    Team 4          82  3386.0       2664.0    1187.0       616.0      861.0   \n",
       "..      ...         ...     ...          ...       ...         ...        ...   \n",
       "56  Team 57           1    34.0         38.0       8.0        10.0       20.0   \n",
       "57  Team 58           1    22.0         30.0       7.0         8.0       15.0   \n",
       "58  Team 59           1    19.0         30.0       7.0         5.0       18.0   \n",
       "59  Team 60           1    14.0         30.0       5.0         4.0       21.0   \n",
       "60  Team 61           1     0.0          0.0       0.0         0.0        0.0   \n",
       "\n",
       "    BasketScored  BasketGiven  TournamentChampion  Runner-up TeamLaunch  \\\n",
       "0         5947.0       3140.0                33.0       23.0       1929   \n",
       "1         5900.0       3114.0                25.0       25.0       1929   \n",
       "2         4534.0       3309.0                10.0        8.0       1929   \n",
       "4         4631.0       3700.0                 8.0        7.0       1929   \n",
       "3         4398.0       3469.0                 6.0        6.0       1931   \n",
       "..           ...          ...                 ...        ...        ...   \n",
       "56          38.0         66.0                 0.0        0.0       2009   \n",
       "57          37.0         57.0                 0.0        0.0       1956   \n",
       "58          51.0         85.0                 0.0        0.0       1951   \n",
       "59          34.0         65.0                 0.0        0.0       1955   \n",
       "60           0.0          0.0                 0.0        0.0       2017   \n",
       "\n",
       "    HighestPositionHeld  \n",
       "0                     1  \n",
       "1                     1  \n",
       "2                     1  \n",
       "4                     1  \n",
       "3                     1  \n",
       "..                  ...  \n",
       "56                   20  \n",
       "57                   16  \n",
       "58                   16  \n",
       "59                   15  \n",
       "60                    9  \n",
       "\n",
       "[61 rows x 13 columns]"
      ]
     },
     "execution_count": 16,
     "metadata": {},
     "output_type": "execute_result"
    }
   ],
   "source": [
    "df_sorted=df.sort_values('WonGames', ascending=False)\n",
    "df_sorted"
   ]
  },
  {
   "cell_type": "code",
   "execution_count": 17,
   "id": "0561324d",
   "metadata": {},
   "outputs": [
    {
     "data": {
      "text/html": [
       "<div>\n",
       "<style scoped>\n",
       "    .dataframe tbody tr th:only-of-type {\n",
       "        vertical-align: middle;\n",
       "    }\n",
       "\n",
       "    .dataframe tbody tr th {\n",
       "        vertical-align: top;\n",
       "    }\n",
       "\n",
       "    .dataframe thead th {\n",
       "        text-align: right;\n",
       "    }\n",
       "</style>\n",
       "<table border=\"1\" class=\"dataframe\">\n",
       "  <thead>\n",
       "    <tr style=\"text-align: right;\">\n",
       "      <th></th>\n",
       "      <th>Team</th>\n",
       "      <th>Tournament</th>\n",
       "      <th>Score</th>\n",
       "      <th>PlayedGames</th>\n",
       "      <th>WonGames</th>\n",
       "      <th>DrawnGames</th>\n",
       "      <th>LostGames</th>\n",
       "      <th>BasketScored</th>\n",
       "      <th>BasketGiven</th>\n",
       "      <th>TournamentChampion</th>\n",
       "      <th>Runner-up</th>\n",
       "      <th>TeamLaunch</th>\n",
       "      <th>HighestPositionHeld</th>\n",
       "    </tr>\n",
       "  </thead>\n",
       "  <tbody>\n",
       "    <tr>\n",
       "      <th>0</th>\n",
       "      <td>Team 1</td>\n",
       "      <td>86</td>\n",
       "      <td>4385.0</td>\n",
       "      <td>2762.0</td>\n",
       "      <td>1647.0</td>\n",
       "      <td>552.0</td>\n",
       "      <td>563.0</td>\n",
       "      <td>5947.0</td>\n",
       "      <td>3140.0</td>\n",
       "      <td>33.0</td>\n",
       "      <td>23.0</td>\n",
       "      <td>1929</td>\n",
       "      <td>1</td>\n",
       "    </tr>\n",
       "    <tr>\n",
       "      <th>1</th>\n",
       "      <td>Team 2</td>\n",
       "      <td>86</td>\n",
       "      <td>4262.0</td>\n",
       "      <td>2762.0</td>\n",
       "      <td>1581.0</td>\n",
       "      <td>573.0</td>\n",
       "      <td>608.0</td>\n",
       "      <td>5900.0</td>\n",
       "      <td>3114.0</td>\n",
       "      <td>25.0</td>\n",
       "      <td>25.0</td>\n",
       "      <td>1929</td>\n",
       "      <td>1</td>\n",
       "    </tr>\n",
       "    <tr>\n",
       "      <th>2</th>\n",
       "      <td>Team 3</td>\n",
       "      <td>80</td>\n",
       "      <td>3442.0</td>\n",
       "      <td>2614.0</td>\n",
       "      <td>1241.0</td>\n",
       "      <td>598.0</td>\n",
       "      <td>775.0</td>\n",
       "      <td>4534.0</td>\n",
       "      <td>3309.0</td>\n",
       "      <td>10.0</td>\n",
       "      <td>8.0</td>\n",
       "      <td>1929</td>\n",
       "      <td>1</td>\n",
       "    </tr>\n",
       "    <tr>\n",
       "      <th>4</th>\n",
       "      <td>Team 5</td>\n",
       "      <td>86</td>\n",
       "      <td>3368.0</td>\n",
       "      <td>2762.0</td>\n",
       "      <td>1209.0</td>\n",
       "      <td>633.0</td>\n",
       "      <td>920.0</td>\n",
       "      <td>4631.0</td>\n",
       "      <td>3700.0</td>\n",
       "      <td>8.0</td>\n",
       "      <td>7.0</td>\n",
       "      <td>1929</td>\n",
       "      <td>1</td>\n",
       "    </tr>\n",
       "    <tr>\n",
       "      <th>3</th>\n",
       "      <td>Team 4</td>\n",
       "      <td>82</td>\n",
       "      <td>3386.0</td>\n",
       "      <td>2664.0</td>\n",
       "      <td>1187.0</td>\n",
       "      <td>616.0</td>\n",
       "      <td>861.0</td>\n",
       "      <td>4398.0</td>\n",
       "      <td>3469.0</td>\n",
       "      <td>6.0</td>\n",
       "      <td>6.0</td>\n",
       "      <td>1931</td>\n",
       "      <td>1</td>\n",
       "    </tr>\n",
       "    <tr>\n",
       "      <th>5</th>\n",
       "      <td>Team 6</td>\n",
       "      <td>73</td>\n",
       "      <td>2819.0</td>\n",
       "      <td>2408.0</td>\n",
       "      <td>990.0</td>\n",
       "      <td>531.0</td>\n",
       "      <td>887.0</td>\n",
       "      <td>3680.0</td>\n",
       "      <td>3373.0</td>\n",
       "      <td>1.0</td>\n",
       "      <td>4.0</td>\n",
       "      <td>1934</td>\n",
       "      <td>1</td>\n",
       "    </tr>\n",
       "    <tr>\n",
       "      <th>6</th>\n",
       "      <td>Team 7</td>\n",
       "      <td>82</td>\n",
       "      <td>2792.0</td>\n",
       "      <td>2626.0</td>\n",
       "      <td>948.0</td>\n",
       "      <td>608.0</td>\n",
       "      <td>1070.0</td>\n",
       "      <td>3609.0</td>\n",
       "      <td>3889.0</td>\n",
       "      <td>0.0</td>\n",
       "      <td>0.0</td>\n",
       "      <td>1929</td>\n",
       "      <td>3</td>\n",
       "    </tr>\n",
       "    <tr>\n",
       "      <th>7</th>\n",
       "      <td>Team 8</td>\n",
       "      <td>70</td>\n",
       "      <td>2573.0</td>\n",
       "      <td>2302.0</td>\n",
       "      <td>864.0</td>\n",
       "      <td>577.0</td>\n",
       "      <td>861.0</td>\n",
       "      <td>3228.0</td>\n",
       "      <td>3230.0</td>\n",
       "      <td>2.0</td>\n",
       "      <td>3.0</td>\n",
       "      <td>1929</td>\n",
       "      <td>1</td>\n",
       "    </tr>\n",
       "    <tr>\n",
       "      <th>8</th>\n",
       "      <td>Team 9</td>\n",
       "      <td>58</td>\n",
       "      <td>2109.0</td>\n",
       "      <td>1986.0</td>\n",
       "      <td>698.0</td>\n",
       "      <td>522.0</td>\n",
       "      <td>766.0</td>\n",
       "      <td>2683.0</td>\n",
       "      <td>2847.0</td>\n",
       "      <td>0.0</td>\n",
       "      <td>1.0</td>\n",
       "      <td>1939</td>\n",
       "      <td>2</td>\n",
       "    </tr>\n",
       "    <tr>\n",
       "      <th>9</th>\n",
       "      <td>Team 10</td>\n",
       "      <td>51</td>\n",
       "      <td>1884.0</td>\n",
       "      <td>1728.0</td>\n",
       "      <td>606.0</td>\n",
       "      <td>440.0</td>\n",
       "      <td>682.0</td>\n",
       "      <td>2159.0</td>\n",
       "      <td>2492.0</td>\n",
       "      <td>1.0</td>\n",
       "      <td>0.0</td>\n",
       "      <td>1932</td>\n",
       "      <td>1</td>\n",
       "    </tr>\n",
       "    <tr>\n",
       "      <th>11</th>\n",
       "      <td>Team 12</td>\n",
       "      <td>51</td>\n",
       "      <td>1789.0</td>\n",
       "      <td>1698.0</td>\n",
       "      <td>586.0</td>\n",
       "      <td>389.0</td>\n",
       "      <td>723.0</td>\n",
       "      <td>2278.0</td>\n",
       "      <td>2624.0</td>\n",
       "      <td>0.0</td>\n",
       "      <td>0.0</td>\n",
       "      <td>1939</td>\n",
       "      <td>4</td>\n",
       "    </tr>\n",
       "    <tr>\n",
       "      <th>10</th>\n",
       "      <td>Team 11</td>\n",
       "      <td>45</td>\n",
       "      <td>1814.0</td>\n",
       "      <td>1530.0</td>\n",
       "      <td>563.0</td>\n",
       "      <td>392.0</td>\n",
       "      <td>575.0</td>\n",
       "      <td>2052.0</td>\n",
       "      <td>2188.0</td>\n",
       "      <td>1.0</td>\n",
       "      <td>5.0</td>\n",
       "      <td>1941</td>\n",
       "      <td>1</td>\n",
       "    </tr>\n",
       "    <tr>\n",
       "      <th>14</th>\n",
       "      <td>Team 15</td>\n",
       "      <td>43</td>\n",
       "      <td>1389.0</td>\n",
       "      <td>1458.0</td>\n",
       "      <td>471.0</td>\n",
       "      <td>358.0</td>\n",
       "      <td>629.0</td>\n",
       "      <td>1753.0</td>\n",
       "      <td>2152.0</td>\n",
       "      <td>0.0</td>\n",
       "      <td>1.0</td>\n",
       "      <td>1944</td>\n",
       "      <td>2</td>\n",
       "    </tr>\n",
       "    <tr>\n",
       "      <th>12</th>\n",
       "      <td>Team 13</td>\n",
       "      <td>42</td>\n",
       "      <td>1471.0</td>\n",
       "      <td>1466.0</td>\n",
       "      <td>463.0</td>\n",
       "      <td>384.0</td>\n",
       "      <td>619.0</td>\n",
       "      <td>1767.0</td>\n",
       "      <td>2180.0</td>\n",
       "      <td>0.0</td>\n",
       "      <td>0.0</td>\n",
       "      <td>1948</td>\n",
       "      <td>4</td>\n",
       "    </tr>\n",
       "    <tr>\n",
       "      <th>13</th>\n",
       "      <td>Team 14</td>\n",
       "      <td>44</td>\n",
       "      <td>1416.0</td>\n",
       "      <td>1428.0</td>\n",
       "      <td>453.0</td>\n",
       "      <td>336.0</td>\n",
       "      <td>639.0</td>\n",
       "      <td>1843.0</td>\n",
       "      <td>2368.0</td>\n",
       "      <td>0.0</td>\n",
       "      <td>1.0</td>\n",
       "      <td>1929</td>\n",
       "      <td>2</td>\n",
       "    </tr>\n",
       "    <tr>\n",
       "      <th>15</th>\n",
       "      <td>Team 16</td>\n",
       "      <td>37</td>\n",
       "      <td>1351.0</td>\n",
       "      <td>1318.0</td>\n",
       "      <td>426.0</td>\n",
       "      <td>327.0</td>\n",
       "      <td>565.0</td>\n",
       "      <td>1500.0</td>\n",
       "      <td>1834.0</td>\n",
       "      <td>0.0</td>\n",
       "      <td>0.0</td>\n",
       "      <td>1935</td>\n",
       "      <td>4</td>\n",
       "    </tr>\n",
       "    <tr>\n",
       "      <th>17</th>\n",
       "      <td>Team 18</td>\n",
       "      <td>38</td>\n",
       "      <td>1174.0</td>\n",
       "      <td>1192.0</td>\n",
       "      <td>408.0</td>\n",
       "      <td>292.0</td>\n",
       "      <td>492.0</td>\n",
       "      <td>1642.0</td>\n",
       "      <td>1951.0</td>\n",
       "      <td>0.0</td>\n",
       "      <td>0.0</td>\n",
       "      <td>1933</td>\n",
       "      <td>3</td>\n",
       "    </tr>\n",
       "    <tr>\n",
       "      <th>16</th>\n",
       "      <td>Team 17</td>\n",
       "      <td>36</td>\n",
       "      <td>1314.0</td>\n",
       "      <td>1255.0</td>\n",
       "      <td>390.0</td>\n",
       "      <td>330.0</td>\n",
       "      <td>535.0</td>\n",
       "      <td>1421.0</td>\n",
       "      <td>1763.0</td>\n",
       "      <td>0.0</td>\n",
       "      <td>0.0</td>\n",
       "      <td>1949</td>\n",
       "      <td>4</td>\n",
       "    </tr>\n",
       "    <tr>\n",
       "      <th>19</th>\n",
       "      <td>Team 20</td>\n",
       "      <td>33</td>\n",
       "      <td>1020.0</td>\n",
       "      <td>1096.0</td>\n",
       "      <td>367.0</td>\n",
       "      <td>242.0</td>\n",
       "      <td>487.0</td>\n",
       "      <td>1347.0</td>\n",
       "      <td>1746.0</td>\n",
       "      <td>0.0</td>\n",
       "      <td>1.0</td>\n",
       "      <td>1951</td>\n",
       "      <td>2</td>\n",
       "    </tr>\n",
       "    <tr>\n",
       "      <th>18</th>\n",
       "      <td>Team 19</td>\n",
       "      <td>27</td>\n",
       "      <td>1148.0</td>\n",
       "      <td>988.0</td>\n",
       "      <td>333.0</td>\n",
       "      <td>256.0</td>\n",
       "      <td>399.0</td>\n",
       "      <td>1182.0</td>\n",
       "      <td>1371.0</td>\n",
       "      <td>0.0</td>\n",
       "      <td>0.0</td>\n",
       "      <td>1960</td>\n",
       "      <td>3</td>\n",
       "    </tr>\n",
       "  </tbody>\n",
       "</table>\n",
       "</div>"
      ],
      "text/plain": [
       "       Team  Tournament   Score  PlayedGames  WonGames  DrawnGames  LostGames  \\\n",
       "0    Team 1          86  4385.0       2762.0    1647.0       552.0      563.0   \n",
       "1    Team 2          86  4262.0       2762.0    1581.0       573.0      608.0   \n",
       "2    Team 3          80  3442.0       2614.0    1241.0       598.0      775.0   \n",
       "4    Team 5          86  3368.0       2762.0    1209.0       633.0      920.0   \n",
       "3    Team 4          82  3386.0       2664.0    1187.0       616.0      861.0   \n",
       "5    Team 6          73  2819.0       2408.0     990.0       531.0      887.0   \n",
       "6    Team 7          82  2792.0       2626.0     948.0       608.0     1070.0   \n",
       "7    Team 8          70  2573.0       2302.0     864.0       577.0      861.0   \n",
       "8    Team 9          58  2109.0       1986.0     698.0       522.0      766.0   \n",
       "9   Team 10          51  1884.0       1728.0     606.0       440.0      682.0   \n",
       "11  Team 12          51  1789.0       1698.0     586.0       389.0      723.0   \n",
       "10  Team 11          45  1814.0       1530.0     563.0       392.0      575.0   \n",
       "14  Team 15          43  1389.0       1458.0     471.0       358.0      629.0   \n",
       "12  Team 13          42  1471.0       1466.0     463.0       384.0      619.0   \n",
       "13  Team 14          44  1416.0       1428.0     453.0       336.0      639.0   \n",
       "15  Team 16          37  1351.0       1318.0     426.0       327.0      565.0   \n",
       "17  Team 18          38  1174.0       1192.0     408.0       292.0      492.0   \n",
       "16  Team 17          36  1314.0       1255.0     390.0       330.0      535.0   \n",
       "19  Team 20          33  1020.0       1096.0     367.0       242.0      487.0   \n",
       "18  Team 19          27  1148.0        988.0     333.0       256.0      399.0   \n",
       "\n",
       "    BasketScored  BasketGiven  TournamentChampion  Runner-up TeamLaunch  \\\n",
       "0         5947.0       3140.0                33.0       23.0       1929   \n",
       "1         5900.0       3114.0                25.0       25.0       1929   \n",
       "2         4534.0       3309.0                10.0        8.0       1929   \n",
       "4         4631.0       3700.0                 8.0        7.0       1929   \n",
       "3         4398.0       3469.0                 6.0        6.0       1931   \n",
       "5         3680.0       3373.0                 1.0        4.0       1934   \n",
       "6         3609.0       3889.0                 0.0        0.0       1929   \n",
       "7         3228.0       3230.0                 2.0        3.0       1929   \n",
       "8         2683.0       2847.0                 0.0        1.0       1939   \n",
       "9         2159.0       2492.0                 1.0        0.0       1932   \n",
       "11        2278.0       2624.0                 0.0        0.0       1939   \n",
       "10        2052.0       2188.0                 1.0        5.0       1941   \n",
       "14        1753.0       2152.0                 0.0        1.0       1944   \n",
       "12        1767.0       2180.0                 0.0        0.0       1948   \n",
       "13        1843.0       2368.0                 0.0        1.0       1929   \n",
       "15        1500.0       1834.0                 0.0        0.0       1935   \n",
       "17        1642.0       1951.0                 0.0        0.0       1933   \n",
       "16        1421.0       1763.0                 0.0        0.0       1949   \n",
       "19        1347.0       1746.0                 0.0        1.0       1951   \n",
       "18        1182.0       1371.0                 0.0        0.0       1960   \n",
       "\n",
       "    HighestPositionHeld  \n",
       "0                     1  \n",
       "1                     1  \n",
       "2                     1  \n",
       "4                     1  \n",
       "3                     1  \n",
       "5                     1  \n",
       "6                     3  \n",
       "7                     1  \n",
       "8                     2  \n",
       "9                     1  \n",
       "11                    4  \n",
       "10                    1  \n",
       "14                    2  \n",
       "12                    4  \n",
       "13                    2  \n",
       "15                    4  \n",
       "17                    3  \n",
       "16                    4  \n",
       "19                    2  \n",
       "18                    3  "
      ]
     },
     "execution_count": 17,
     "metadata": {},
     "output_type": "execute_result"
    }
   ],
   "source": [
    "df_winnings= df.nlargest(20, ['WonGames'])\n",
    "df_winnings"
   ]
  },
  {
   "cell_type": "code",
   "execution_count": 18,
   "id": "dfc49c62",
   "metadata": {},
   "outputs": [
    {
     "data": {
      "application/javascript": [
       "\n",
       "        if (window._pyforest_update_imports_cell) { window._pyforest_update_imports_cell('import numpy as np\\nimport pandas as pd\\nimport matplotlib.pyplot as plt'); }\n",
       "    "
      ],
      "text/plain": [
       "<IPython.core.display.Javascript object>"
      ]
     },
     "metadata": {},
     "output_type": "display_data"
    },
    {
     "data": {
      "application/javascript": [
       "\n",
       "        if (window._pyforest_update_imports_cell) { window._pyforest_update_imports_cell('import numpy as np\\nimport pandas as pd\\nimport matplotlib.pyplot as plt'); }\n",
       "    "
      ],
      "text/plain": [
       "<IPython.core.display.Javascript object>"
      ]
     },
     "metadata": {},
     "output_type": "display_data"
    },
    {
     "data": {
      "application/javascript": [
       "\n",
       "        if (window._pyforest_update_imports_cell) { window._pyforest_update_imports_cell('import numpy as np\\nimport pandas as pd\\nimport matplotlib.pyplot as plt'); }\n",
       "    "
      ],
      "text/plain": [
       "<IPython.core.display.Javascript object>"
      ]
     },
     "metadata": {},
     "output_type": "display_data"
    },
    {
     "data": {
      "image/png": "[encoded data removed]",
      "text/plain": [
       "<Figure size 2000x800 with 1 Axes>"
      ]
     },
     "metadata": {},
     "output_type": "display_data"
    }
   ],
   "source": [
    "plt.figure(figsize=(20,8))\n",
    "plt.bar(x=df_winnings['Team'], height= df_winnings['WonGames'])\n",
    "plt.show()"
   ]
  },
  {
   "cell_type": "markdown",
   "id": "db9d22bf",
   "metadata": {},
   "source": [
    "Most win the team won is team 1."
   ]
  },
  {
   "cell_type": "markdown",
   "id": "00627087",
   "metadata": {},
   "source": [
    "### Teams who have been tournament champions for the max number of times"
   ]
  },
  {
   "cell_type": "code",
   "execution_count": 19,
   "id": "da74535f",
   "metadata": {},
   "outputs": [
    {
     "data": {
      "text/html": [
       "<div>\n",
       "<style scoped>\n",
       "    .dataframe tbody tr th:only-of-type {\n",
       "        vertical-align: middle;\n",
       "    }\n",
       "\n",
       "    .dataframe tbody tr th {\n",
       "        vertical-align: top;\n",
       "    }\n",
       "\n",
       "    .dataframe thead th {\n",
       "        text-align: right;\n",
       "    }\n",
       "</style>\n",
       "<table border=\"1\" class=\"dataframe\">\n",
       "  <thead>\n",
       "    <tr style=\"text-align: right;\">\n",
       "      <th></th>\n",
       "      <th>Team</th>\n",
       "      <th>Tournament</th>\n",
       "      <th>Score</th>\n",
       "      <th>PlayedGames</th>\n",
       "      <th>WonGames</th>\n",
       "      <th>DrawnGames</th>\n",
       "      <th>LostGames</th>\n",
       "      <th>BasketScored</th>\n",
       "      <th>BasketGiven</th>\n",
       "      <th>TournamentChampion</th>\n",
       "      <th>Runner-up</th>\n",
       "      <th>TeamLaunch</th>\n",
       "      <th>HighestPositionHeld</th>\n",
       "    </tr>\n",
       "  </thead>\n",
       "  <tbody>\n",
       "    <tr>\n",
       "      <th>0</th>\n",
       "      <td>Team 1</td>\n",
       "      <td>86</td>\n",
       "      <td>4385.0</td>\n",
       "      <td>2762.0</td>\n",
       "      <td>1647.0</td>\n",
       "      <td>552.0</td>\n",
       "      <td>563.0</td>\n",
       "      <td>5947.0</td>\n",
       "      <td>3140.0</td>\n",
       "      <td>33.0</td>\n",
       "      <td>23.0</td>\n",
       "      <td>1929</td>\n",
       "      <td>1</td>\n",
       "    </tr>\n",
       "    <tr>\n",
       "      <th>1</th>\n",
       "      <td>Team 2</td>\n",
       "      <td>86</td>\n",
       "      <td>4262.0</td>\n",
       "      <td>2762.0</td>\n",
       "      <td>1581.0</td>\n",
       "      <td>573.0</td>\n",
       "      <td>608.0</td>\n",
       "      <td>5900.0</td>\n",
       "      <td>3114.0</td>\n",
       "      <td>25.0</td>\n",
       "      <td>25.0</td>\n",
       "      <td>1929</td>\n",
       "      <td>1</td>\n",
       "    </tr>\n",
       "    <tr>\n",
       "      <th>2</th>\n",
       "      <td>Team 3</td>\n",
       "      <td>80</td>\n",
       "      <td>3442.0</td>\n",
       "      <td>2614.0</td>\n",
       "      <td>1241.0</td>\n",
       "      <td>598.0</td>\n",
       "      <td>775.0</td>\n",
       "      <td>4534.0</td>\n",
       "      <td>3309.0</td>\n",
       "      <td>10.0</td>\n",
       "      <td>8.0</td>\n",
       "      <td>1929</td>\n",
       "      <td>1</td>\n",
       "    </tr>\n",
       "    <tr>\n",
       "      <th>4</th>\n",
       "      <td>Team 5</td>\n",
       "      <td>86</td>\n",
       "      <td>3368.0</td>\n",
       "      <td>2762.0</td>\n",
       "      <td>1209.0</td>\n",
       "      <td>633.0</td>\n",
       "      <td>920.0</td>\n",
       "      <td>4631.0</td>\n",
       "      <td>3700.0</td>\n",
       "      <td>8.0</td>\n",
       "      <td>7.0</td>\n",
       "      <td>1929</td>\n",
       "      <td>1</td>\n",
       "    </tr>\n",
       "    <tr>\n",
       "      <th>3</th>\n",
       "      <td>Team 4</td>\n",
       "      <td>82</td>\n",
       "      <td>3386.0</td>\n",
       "      <td>2664.0</td>\n",
       "      <td>1187.0</td>\n",
       "      <td>616.0</td>\n",
       "      <td>861.0</td>\n",
       "      <td>4398.0</td>\n",
       "      <td>3469.0</td>\n",
       "      <td>6.0</td>\n",
       "      <td>6.0</td>\n",
       "      <td>1931</td>\n",
       "      <td>1</td>\n",
       "    </tr>\n",
       "    <tr>\n",
       "      <th>7</th>\n",
       "      <td>Team 8</td>\n",
       "      <td>70</td>\n",
       "      <td>2573.0</td>\n",
       "      <td>2302.0</td>\n",
       "      <td>864.0</td>\n",
       "      <td>577.0</td>\n",
       "      <td>861.0</td>\n",
       "      <td>3228.0</td>\n",
       "      <td>3230.0</td>\n",
       "      <td>2.0</td>\n",
       "      <td>3.0</td>\n",
       "      <td>1929</td>\n",
       "      <td>1</td>\n",
       "    </tr>\n",
       "    <tr>\n",
       "      <th>5</th>\n",
       "      <td>Team 6</td>\n",
       "      <td>73</td>\n",
       "      <td>2819.0</td>\n",
       "      <td>2408.0</td>\n",
       "      <td>990.0</td>\n",
       "      <td>531.0</td>\n",
       "      <td>887.0</td>\n",
       "      <td>3680.0</td>\n",
       "      <td>3373.0</td>\n",
       "      <td>1.0</td>\n",
       "      <td>4.0</td>\n",
       "      <td>1934</td>\n",
       "      <td>1</td>\n",
       "    </tr>\n",
       "    <tr>\n",
       "      <th>9</th>\n",
       "      <td>Team 10</td>\n",
       "      <td>51</td>\n",
       "      <td>1884.0</td>\n",
       "      <td>1728.0</td>\n",
       "      <td>606.0</td>\n",
       "      <td>440.0</td>\n",
       "      <td>682.0</td>\n",
       "      <td>2159.0</td>\n",
       "      <td>2492.0</td>\n",
       "      <td>1.0</td>\n",
       "      <td>0.0</td>\n",
       "      <td>1932</td>\n",
       "      <td>1</td>\n",
       "    </tr>\n",
       "    <tr>\n",
       "      <th>10</th>\n",
       "      <td>Team 11</td>\n",
       "      <td>45</td>\n",
       "      <td>1814.0</td>\n",
       "      <td>1530.0</td>\n",
       "      <td>563.0</td>\n",
       "      <td>392.0</td>\n",
       "      <td>575.0</td>\n",
       "      <td>2052.0</td>\n",
       "      <td>2188.0</td>\n",
       "      <td>1.0</td>\n",
       "      <td>5.0</td>\n",
       "      <td>1941</td>\n",
       "      <td>1</td>\n",
       "    </tr>\n",
       "    <tr>\n",
       "      <th>6</th>\n",
       "      <td>Team 7</td>\n",
       "      <td>82</td>\n",
       "      <td>2792.0</td>\n",
       "      <td>2626.0</td>\n",
       "      <td>948.0</td>\n",
       "      <td>608.0</td>\n",
       "      <td>1070.0</td>\n",
       "      <td>3609.0</td>\n",
       "      <td>3889.0</td>\n",
       "      <td>0.0</td>\n",
       "      <td>0.0</td>\n",
       "      <td>1929</td>\n",
       "      <td>3</td>\n",
       "    </tr>\n",
       "  </tbody>\n",
       "</table>\n",
       "</div>"
      ],
      "text/plain": [
       "       Team  Tournament   Score  PlayedGames  WonGames  DrawnGames  LostGames  \\\n",
       "0    Team 1          86  4385.0       2762.0    1647.0       552.0      563.0   \n",
       "1    Team 2          86  4262.0       2762.0    1581.0       573.0      608.0   \n",
       "2    Team 3          80  3442.0       2614.0    1241.0       598.0      775.0   \n",
       "4    Team 5          86  3368.0       2762.0    1209.0       633.0      920.0   \n",
       "3    Team 4          82  3386.0       2664.0    1187.0       616.0      861.0   \n",
       "7    Team 8          70  2573.0       2302.0     864.0       577.0      861.0   \n",
       "5    Team 6          73  2819.0       2408.0     990.0       531.0      887.0   \n",
       "9   Team 10          51  1884.0       1728.0     606.0       440.0      682.0   \n",
       "10  Team 11          45  1814.0       1530.0     563.0       392.0      575.0   \n",
       "6    Team 7          82  2792.0       2626.0     948.0       608.0     1070.0   \n",
       "\n",
       "    BasketScored  BasketGiven  TournamentChampion  Runner-up TeamLaunch  \\\n",
       "0         5947.0       3140.0                33.0       23.0       1929   \n",
       "1         5900.0       3114.0                25.0       25.0       1929   \n",
       "2         4534.0       3309.0                10.0        8.0       1929   \n",
       "4         4631.0       3700.0                 8.0        7.0       1929   \n",
       "3         4398.0       3469.0                 6.0        6.0       1931   \n",
       "7         3228.0       3230.0                 2.0        3.0       1929   \n",
       "5         3680.0       3373.0                 1.0        4.0       1934   \n",
       "9         2159.0       2492.0                 1.0        0.0       1932   \n",
       "10        2052.0       2188.0                 1.0        5.0       1941   \n",
       "6         3609.0       3889.0                 0.0        0.0       1929   \n",
       "\n",
       "    HighestPositionHeld  \n",
       "0                     1  \n",
       "1                     1  \n",
       "2                     1  \n",
       "4                     1  \n",
       "3                     1  \n",
       "7                     1  \n",
       "5                     1  \n",
       "9                     1  \n",
       "10                    1  \n",
       "6                     3  "
      ]
     },
     "execution_count": 19,
     "metadata": {},
     "output_type": "execute_result"
    }
   ],
   "source": [
    "#Top three teams which has won the Tournament as a champions for highest number of times. \n",
    "df_champions= df.nlargest(10, ['TournamentChampion']) \n",
    "df_champions"
   ]
  },
  {
   "cell_type": "code",
   "execution_count": 20,
   "id": "3e13980b",
   "metadata": {},
   "outputs": [
    {
     "data": {
      "application/javascript": [
       "\n",
       "        if (window._pyforest_update_imports_cell) { window._pyforest_update_imports_cell('import numpy as np\\nimport pandas as pd\\nimport matplotlib.pyplot as plt'); }\n",
       "    "
      ],
      "text/plain": [
       "<IPython.core.display.Javascript object>"
      ]
     },
     "metadata": {},
     "output_type": "display_data"
    },
    {
     "data": {
      "application/javascript": [
       "\n",
       "        if (window._pyforest_update_imports_cell) { window._pyforest_update_imports_cell('import numpy as np\\nimport pandas as pd\\nimport matplotlib.pyplot as plt\\nimport seaborn as sns'); }\n",
       "    "
      ],
      "text/plain": [
       "<IPython.core.display.Javascript object>"
      ]
     },
     "metadata": {},
     "output_type": "display_data"
    },
    {
     "data": {
      "text/plain": [
       "<Axes: xlabel='Team', ylabel='TournamentChampion'>"
      ]
     },
     "execution_count": 20,
     "metadata": {},
     "output_type": "execute_result"
    },
    {
     "data": {
      "image/png": "[encoded data removed]",
      "text/plain": [
       "<Figure size 1500x800 with 1 Axes>"
      ]
     },
     "metadata": {},
     "output_type": "display_data"
    }
   ],
   "source": [
    "plt.figure(figsize=(15,8))\n",
    "sns.barplot(df_champions,x=df_champions['Team'],y=df_champions['TournamentChampion'])"
   ]
  },
  {
   "cell_type": "markdown",
   "id": "7a42ee37",
   "metadata": {},
   "source": [
    "Among top 10 teams, Team 1 has won the most championships. Team 7 being the least."
   ]
  },
  {
   "cell_type": "markdown",
   "id": "a5bbe900",
   "metadata": {},
   "source": [
    "### Teams with highest win%"
   ]
  },
  {
   "cell_type": "code",
   "execution_count": 21,
   "id": "d2b9985a",
   "metadata": {},
   "outputs": [
    {
     "data": {
      "text/html": [
       "<div>\n",
       "<style scoped>\n",
       "    .dataframe tbody tr th:only-of-type {\n",
       "        vertical-align: middle;\n",
       "    }\n",
       "\n",
       "    .dataframe tbody tr th {\n",
       "        vertical-align: top;\n",
       "    }\n",
       "\n",
       "    .dataframe thead th {\n",
       "        text-align: right;\n",
       "    }\n",
       "</style>\n",
       "<table border=\"1\" class=\"dataframe\">\n",
       "  <thead>\n",
       "    <tr style=\"text-align: right;\">\n",
       "      <th></th>\n",
       "      <th>Team</th>\n",
       "      <th>Tournament</th>\n",
       "      <th>Score</th>\n",
       "      <th>PlayedGames</th>\n",
       "      <th>WonGames</th>\n",
       "      <th>DrawnGames</th>\n",
       "      <th>LostGames</th>\n",
       "      <th>BasketScored</th>\n",
       "      <th>BasketGiven</th>\n",
       "      <th>TournamentChampion</th>\n",
       "      <th>Runner-up</th>\n",
       "      <th>TeamLaunch</th>\n",
       "      <th>HighestPositionHeld</th>\n",
       "    </tr>\n",
       "  </thead>\n",
       "  <tbody>\n",
       "    <tr>\n",
       "      <th>0</th>\n",
       "      <td>Team 1</td>\n",
       "      <td>86</td>\n",
       "      <td>4385.0</td>\n",
       "      <td>2762.0</td>\n",
       "      <td>1647.0</td>\n",
       "      <td>552.0</td>\n",
       "      <td>563.0</td>\n",
       "      <td>5947.0</td>\n",
       "      <td>3140.0</td>\n",
       "      <td>33.0</td>\n",
       "      <td>23.0</td>\n",
       "      <td>1929</td>\n",
       "      <td>1</td>\n",
       "    </tr>\n",
       "    <tr>\n",
       "      <th>1</th>\n",
       "      <td>Team 2</td>\n",
       "      <td>86</td>\n",
       "      <td>4262.0</td>\n",
       "      <td>2762.0</td>\n",
       "      <td>1581.0</td>\n",
       "      <td>573.0</td>\n",
       "      <td>608.0</td>\n",
       "      <td>5900.0</td>\n",
       "      <td>3114.0</td>\n",
       "      <td>25.0</td>\n",
       "      <td>25.0</td>\n",
       "      <td>1929</td>\n",
       "      <td>1</td>\n",
       "    </tr>\n",
       "  </tbody>\n",
       "</table>\n",
       "</div>"
      ],
      "text/plain": [
       "     Team  Tournament   Score  PlayedGames  WonGames  DrawnGames  LostGames  \\\n",
       "0  Team 1          86  4385.0       2762.0    1647.0       552.0      563.0   \n",
       "1  Team 2          86  4262.0       2762.0    1581.0       573.0      608.0   \n",
       "\n",
       "   BasketScored  BasketGiven  TournamentChampion  Runner-up TeamLaunch  \\\n",
       "0        5947.0       3140.0                33.0       23.0       1929   \n",
       "1        5900.0       3114.0                25.0       25.0       1929   \n",
       "\n",
       "   HighestPositionHeld  \n",
       "0                    1  \n",
       "1                    1  "
      ]
     },
     "execution_count": 21,
     "metadata": {},
     "output_type": "execute_result"
    }
   ],
   "source": [
    "df.head(2)"
   ]
  },
  {
   "cell_type": "code",
   "execution_count": 24,
   "id": "036703d9",
   "metadata": {},
   "outputs": [
    {
     "data": {
      "text/plain": [
       "0     59.630702\n",
       "1     57.241130\n",
       "2     47.475134\n",
       "3     44.557057\n",
       "4     43.772629\n",
       "        ...    \n",
       "56    21.052632\n",
       "57    23.333333\n",
       "58    23.333333\n",
       "59    16.666667\n",
       "60          NaN\n",
       "Name: Win%, Length: 61, dtype: float64"
      ]
     },
     "execution_count": 24,
     "metadata": {},
     "output_type": "execute_result"
    }
   ],
   "source": [
    "df['Win%'] = (df['WonGames']/df['PlayedGames'])*100\n",
    "df['Win%']"
   ]
  },
  {
   "cell_type": "code",
   "execution_count": 25,
   "id": "8509f980",
   "metadata": {},
   "outputs": [
    {
     "data": {
      "application/javascript": [
       "\n",
       "        if (window._pyforest_update_imports_cell) { window._pyforest_update_imports_cell('import numpy as np\\nimport pandas as pd\\nimport matplotlib.pyplot as plt\\nimport seaborn as sns'); }\n",
       "    "
      ],
      "text/plain": [
       "<IPython.core.display.Javascript object>"
      ]
     },
     "metadata": {},
     "output_type": "display_data"
    },
    {
     "data": {
      "application/javascript": [
       "\n",
       "        if (window._pyforest_update_imports_cell) { window._pyforest_update_imports_cell('import numpy as np\\nimport pandas as pd\\nimport matplotlib.pyplot as plt\\nimport seaborn as sns'); }\n",
       "    "
      ],
      "text/plain": [
       "<IPython.core.display.Javascript object>"
      ]
     },
     "metadata": {},
     "output_type": "display_data"
    },
    {
     "data": {
      "text/plain": [
       "<Axes: xlabel='Team', ylabel='TournamentChampion'>"
      ]
     },
     "execution_count": 25,
     "metadata": {},
     "output_type": "execute_result"
    },
    {
     "data": {
      "image/png": "[encoded data removed]",
      "text/plain": [
       "<Figure size 1500x800 with 1 Axes>"
      ]
     },
     "metadata": {},
     "output_type": "display_data"
    }
   ],
   "source": [
    "plt.figure(figsize=(15,8))\n",
    "sns.barplot(data = df.nlargest(10, 'Win%'), x='Team', y='TournamentChampion')"
   ]
  },
  {
   "cell_type": "code",
   "execution_count": null,
   "id": "59fdb985",
   "metadata": {},
   "outputs": [],
   "source": []
  },
  {
   "cell_type": "markdown",
   "id": "d2f437ae",
   "metadata": {},
   "source": [
    "### Teams with lowest performance"
   ]
  },
  {
   "cell_type": "code",
   "execution_count": 26,
   "id": "22029999",
   "metadata": {},
   "outputs": [
    {
     "data": {
      "text/plain": [
       "0     20.383780\n",
       "1     22.013034\n",
       "2     29.648049\n",
       "3     32.319820\n",
       "4     33.309196\n",
       "        ...    \n",
       "56    52.631579\n",
       "57    50.000000\n",
       "58    60.000000\n",
       "59    70.000000\n",
       "60          NaN\n",
       "Name: Lose%, Length: 61, dtype: float64"
      ]
     },
     "execution_count": 26,
     "metadata": {},
     "output_type": "execute_result"
    }
   ],
   "source": [
    "df['Lose%'] = (df['LostGames']/df['PlayedGames'])*100\n",
    "df['Lose%']"
   ]
  },
  {
   "cell_type": "code",
   "execution_count": 27,
   "id": "3648ea78",
   "metadata": {},
   "outputs": [
    {
     "data": {
      "application/javascript": [
       "\n",
       "        if (window._pyforest_update_imports_cell) { window._pyforest_update_imports_cell('import numpy as np\\nimport pandas as pd\\nimport matplotlib.pyplot as plt\\nimport seaborn as sns'); }\n",
       "    "
      ],
      "text/plain": [
       "<IPython.core.display.Javascript object>"
      ]
     },
     "metadata": {},
     "output_type": "display_data"
    },
    {
     "data": {
      "application/javascript": [
       "\n",
       "        if (window._pyforest_update_imports_cell) { window._pyforest_update_imports_cell('import numpy as np\\nimport pandas as pd\\nimport matplotlib.pyplot as plt\\nimport seaborn as sns'); }\n",
       "    "
      ],
      "text/plain": [
       "<IPython.core.display.Javascript object>"
      ]
     },
     "metadata": {},
     "output_type": "display_data"
    },
    {
     "data": {
      "text/plain": [
       "<Axes: xlabel='Team', ylabel='LostGames'>"
      ]
     },
     "execution_count": 27,
     "metadata": {},
     "output_type": "execute_result"
    },
    {
     "data": {
      "image/png": "[encoded data removed]",
      "text/plain": [
       "<Figure size 1500x800 with 1 Axes>"
      ]
     },
     "metadata": {},
     "output_type": "display_data"
    }
   ],
   "source": [
    "plt.figure(figsize=(15,8))\n",
    "sns.barplot(data = df.nlargest(10, 'Lose%'), x='Team', y='LostGames')"
   ]
  },
  {
   "cell_type": "code",
   "execution_count": null,
   "id": "655a9e96",
   "metadata": {},
   "outputs": [],
   "source": []
  },
  {
   "cell_type": "markdown",
   "id": "58935bc7",
   "metadata": {},
   "source": [
    "### From the top 20 teams with highest scores, highest matches won, we'll combine it with teams having highest winning % "
   ]
  },
  {
   "cell_type": "code",
   "execution_count": 28,
   "id": "ed00ffc6",
   "metadata": {},
   "outputs": [],
   "source": [
    "df_winpercent = df.nlargest(20, 'Win%')"
   ]
  },
  {
   "cell_type": "code",
   "execution_count": 29,
   "id": "68b180af",
   "metadata": {},
   "outputs": [
    {
     "data": {
      "application/javascript": [
       "\n",
       "        if (window._pyforest_update_imports_cell) { window._pyforest_update_imports_cell('import numpy as np\\nimport pandas as pd\\nimport matplotlib.pyplot as plt\\nimport seaborn as sns'); }\n",
       "    "
      ],
      "text/plain": [
       "<IPython.core.display.Javascript object>"
      ]
     },
     "metadata": {},
     "output_type": "display_data"
    }
   ],
   "source": [
    "df_winpercent['TeamLaunch']=df_winpercent['TeamLaunch'].apply(pd.to_numeric, errors='coerce')"
   ]
  },
  {
   "cell_type": "code",
   "execution_count": 30,
   "id": "afb44fa0",
   "metadata": {},
   "outputs": [
    {
     "data": {
      "application/javascript": [
       "\n",
       "        if (window._pyforest_update_imports_cell) { window._pyforest_update_imports_cell('import numpy as np\\nimport pandas as pd\\nimport matplotlib.pyplot as plt\\nimport seaborn as sns'); }\n",
       "    "
      ],
      "text/plain": [
       "<IPython.core.display.Javascript object>"
      ]
     },
     "metadata": {},
     "output_type": "display_data"
    }
   ],
   "source": [
    "df_winnings['TeamLaunch']=df_winnings['TeamLaunch'].apply(pd.to_numeric, errors='coerce')"
   ]
  },
  {
   "cell_type": "code",
   "execution_count": 31,
   "id": "f7831d6d",
   "metadata": {},
   "outputs": [
    {
     "data": {
      "application/javascript": [
       "\n",
       "        if (window._pyforest_update_imports_cell) { window._pyforest_update_imports_cell('import numpy as np\\nimport pandas as pd\\nimport matplotlib.pyplot as plt\\nimport seaborn as sns'); }\n",
       "    "
      ],
      "text/plain": [
       "<IPython.core.display.Javascript object>"
      ]
     },
     "metadata": {},
     "output_type": "display_data"
    },
    {
     "data": {
      "text/html": [
       "<div>\n",
       "<style scoped>\n",
       "    .dataframe tbody tr th:only-of-type {\n",
       "        vertical-align: middle;\n",
       "    }\n",
       "\n",
       "    .dataframe tbody tr th {\n",
       "        vertical-align: top;\n",
       "    }\n",
       "\n",
       "    .dataframe thead th {\n",
       "        text-align: right;\n",
       "    }\n",
       "</style>\n",
       "<table border=\"1\" class=\"dataframe\">\n",
       "  <thead>\n",
       "    <tr style=\"text-align: right;\">\n",
       "      <th></th>\n",
       "      <th>Team</th>\n",
       "      <th>Tournament</th>\n",
       "      <th>Score</th>\n",
       "      <th>PlayedGames</th>\n",
       "      <th>WonGames</th>\n",
       "      <th>DrawnGames</th>\n",
       "      <th>LostGames</th>\n",
       "      <th>BasketScored</th>\n",
       "      <th>BasketGiven</th>\n",
       "      <th>TournamentChampion</th>\n",
       "      <th>Runner-up</th>\n",
       "      <th>TeamLaunch</th>\n",
       "      <th>HighestPositionHeld</th>\n",
       "      <th>Won</th>\n",
       "      <th>Win%</th>\n",
       "      <th>Lose%</th>\n",
       "    </tr>\n",
       "  </thead>\n",
       "  <tbody>\n",
       "    <tr>\n",
       "      <th>0</th>\n",
       "      <td>Team 1</td>\n",
       "      <td>86</td>\n",
       "      <td>4385.0</td>\n",
       "      <td>2762.0</td>\n",
       "      <td>1647.0</td>\n",
       "      <td>552.0</td>\n",
       "      <td>563.0</td>\n",
       "      <td>5947.0</td>\n",
       "      <td>3140.0</td>\n",
       "      <td>33.0</td>\n",
       "      <td>23.0</td>\n",
       "      <td>1929</td>\n",
       "      <td>1</td>\n",
       "      <td>59.630702</td>\n",
       "      <td>59.630702</td>\n",
       "      <td>20.383780</td>\n",
       "    </tr>\n",
       "    <tr>\n",
       "      <th>1</th>\n",
       "      <td>Team 2</td>\n",
       "      <td>86</td>\n",
       "      <td>4262.0</td>\n",
       "      <td>2762.0</td>\n",
       "      <td>1581.0</td>\n",
       "      <td>573.0</td>\n",
       "      <td>608.0</td>\n",
       "      <td>5900.0</td>\n",
       "      <td>3114.0</td>\n",
       "      <td>25.0</td>\n",
       "      <td>25.0</td>\n",
       "      <td>1929</td>\n",
       "      <td>1</td>\n",
       "      <td>57.241130</td>\n",
       "      <td>57.241130</td>\n",
       "      <td>22.013034</td>\n",
       "    </tr>\n",
       "    <tr>\n",
       "      <th>2</th>\n",
       "      <td>Team 3</td>\n",
       "      <td>80</td>\n",
       "      <td>3442.0</td>\n",
       "      <td>2614.0</td>\n",
       "      <td>1241.0</td>\n",
       "      <td>598.0</td>\n",
       "      <td>775.0</td>\n",
       "      <td>4534.0</td>\n",
       "      <td>3309.0</td>\n",
       "      <td>10.0</td>\n",
       "      <td>8.0</td>\n",
       "      <td>1929</td>\n",
       "      <td>1</td>\n",
       "      <td>47.475134</td>\n",
       "      <td>47.475134</td>\n",
       "      <td>29.648049</td>\n",
       "    </tr>\n",
       "    <tr>\n",
       "      <th>3</th>\n",
       "      <td>Team 5</td>\n",
       "      <td>86</td>\n",
       "      <td>3368.0</td>\n",
       "      <td>2762.0</td>\n",
       "      <td>1209.0</td>\n",
       "      <td>633.0</td>\n",
       "      <td>920.0</td>\n",
       "      <td>4631.0</td>\n",
       "      <td>3700.0</td>\n",
       "      <td>8.0</td>\n",
       "      <td>7.0</td>\n",
       "      <td>1929</td>\n",
       "      <td>1</td>\n",
       "      <td>43.772629</td>\n",
       "      <td>43.772629</td>\n",
       "      <td>33.309196</td>\n",
       "    </tr>\n",
       "    <tr>\n",
       "      <th>4</th>\n",
       "      <td>Team 4</td>\n",
       "      <td>82</td>\n",
       "      <td>3386.0</td>\n",
       "      <td>2664.0</td>\n",
       "      <td>1187.0</td>\n",
       "      <td>616.0</td>\n",
       "      <td>861.0</td>\n",
       "      <td>4398.0</td>\n",
       "      <td>3469.0</td>\n",
       "      <td>6.0</td>\n",
       "      <td>6.0</td>\n",
       "      <td>1931</td>\n",
       "      <td>1</td>\n",
       "      <td>44.557057</td>\n",
       "      <td>44.557057</td>\n",
       "      <td>32.319820</td>\n",
       "    </tr>\n",
       "    <tr>\n",
       "      <th>5</th>\n",
       "      <td>Team 6</td>\n",
       "      <td>73</td>\n",
       "      <td>2819.0</td>\n",
       "      <td>2408.0</td>\n",
       "      <td>990.0</td>\n",
       "      <td>531.0</td>\n",
       "      <td>887.0</td>\n",
       "      <td>3680.0</td>\n",
       "      <td>3373.0</td>\n",
       "      <td>1.0</td>\n",
       "      <td>4.0</td>\n",
       "      <td>1934</td>\n",
       "      <td>1</td>\n",
       "      <td>41.112957</td>\n",
       "      <td>41.112957</td>\n",
       "      <td>36.835548</td>\n",
       "    </tr>\n",
       "    <tr>\n",
       "      <th>6</th>\n",
       "      <td>Team 7</td>\n",
       "      <td>82</td>\n",
       "      <td>2792.0</td>\n",
       "      <td>2626.0</td>\n",
       "      <td>948.0</td>\n",
       "      <td>608.0</td>\n",
       "      <td>1070.0</td>\n",
       "      <td>3609.0</td>\n",
       "      <td>3889.0</td>\n",
       "      <td>0.0</td>\n",
       "      <td>0.0</td>\n",
       "      <td>1929</td>\n",
       "      <td>3</td>\n",
       "      <td>36.100533</td>\n",
       "      <td>36.100533</td>\n",
       "      <td>40.746382</td>\n",
       "    </tr>\n",
       "    <tr>\n",
       "      <th>7</th>\n",
       "      <td>Team 8</td>\n",
       "      <td>70</td>\n",
       "      <td>2573.0</td>\n",
       "      <td>2302.0</td>\n",
       "      <td>864.0</td>\n",
       "      <td>577.0</td>\n",
       "      <td>861.0</td>\n",
       "      <td>3228.0</td>\n",
       "      <td>3230.0</td>\n",
       "      <td>2.0</td>\n",
       "      <td>3.0</td>\n",
       "      <td>1929</td>\n",
       "      <td>1</td>\n",
       "      <td>37.532580</td>\n",
       "      <td>37.532580</td>\n",
       "      <td>37.402259</td>\n",
       "    </tr>\n",
       "    <tr>\n",
       "      <th>8</th>\n",
       "      <td>Team 9</td>\n",
       "      <td>58</td>\n",
       "      <td>2109.0</td>\n",
       "      <td>1986.0</td>\n",
       "      <td>698.0</td>\n",
       "      <td>522.0</td>\n",
       "      <td>766.0</td>\n",
       "      <td>2683.0</td>\n",
       "      <td>2847.0</td>\n",
       "      <td>0.0</td>\n",
       "      <td>1.0</td>\n",
       "      <td>1939</td>\n",
       "      <td>2</td>\n",
       "      <td>35.146022</td>\n",
       "      <td>35.146022</td>\n",
       "      <td>38.569990</td>\n",
       "    </tr>\n",
       "    <tr>\n",
       "      <th>9</th>\n",
       "      <td>Team 10</td>\n",
       "      <td>51</td>\n",
       "      <td>1884.0</td>\n",
       "      <td>1728.0</td>\n",
       "      <td>606.0</td>\n",
       "      <td>440.0</td>\n",
       "      <td>682.0</td>\n",
       "      <td>2159.0</td>\n",
       "      <td>2492.0</td>\n",
       "      <td>1.0</td>\n",
       "      <td>0.0</td>\n",
       "      <td>1932</td>\n",
       "      <td>1</td>\n",
       "      <td>35.069444</td>\n",
       "      <td>35.069444</td>\n",
       "      <td>39.467593</td>\n",
       "    </tr>\n",
       "    <tr>\n",
       "      <th>10</th>\n",
       "      <td>Team 12</td>\n",
       "      <td>51</td>\n",
       "      <td>1789.0</td>\n",
       "      <td>1698.0</td>\n",
       "      <td>586.0</td>\n",
       "      <td>389.0</td>\n",
       "      <td>723.0</td>\n",
       "      <td>2278.0</td>\n",
       "      <td>2624.0</td>\n",
       "      <td>0.0</td>\n",
       "      <td>0.0</td>\n",
       "      <td>1939</td>\n",
       "      <td>4</td>\n",
       "      <td>34.511190</td>\n",
       "      <td>34.511190</td>\n",
       "      <td>42.579505</td>\n",
       "    </tr>\n",
       "    <tr>\n",
       "      <th>11</th>\n",
       "      <td>Team 11</td>\n",
       "      <td>45</td>\n",
       "      <td>1814.0</td>\n",
       "      <td>1530.0</td>\n",
       "      <td>563.0</td>\n",
       "      <td>392.0</td>\n",
       "      <td>575.0</td>\n",
       "      <td>2052.0</td>\n",
       "      <td>2188.0</td>\n",
       "      <td>1.0</td>\n",
       "      <td>5.0</td>\n",
       "      <td>1941</td>\n",
       "      <td>1</td>\n",
       "      <td>36.797386</td>\n",
       "      <td>36.797386</td>\n",
       "      <td>37.581699</td>\n",
       "    </tr>\n",
       "    <tr>\n",
       "      <th>12</th>\n",
       "      <td>Team 18</td>\n",
       "      <td>38</td>\n",
       "      <td>1174.0</td>\n",
       "      <td>1192.0</td>\n",
       "      <td>408.0</td>\n",
       "      <td>292.0</td>\n",
       "      <td>492.0</td>\n",
       "      <td>1642.0</td>\n",
       "      <td>1951.0</td>\n",
       "      <td>0.0</td>\n",
       "      <td>0.0</td>\n",
       "      <td>1933</td>\n",
       "      <td>3</td>\n",
       "      <td>34.228188</td>\n",
       "      <td>34.228188</td>\n",
       "      <td>41.275168</td>\n",
       "    </tr>\n",
       "    <tr>\n",
       "      <th>13</th>\n",
       "      <td>Team 20</td>\n",
       "      <td>33</td>\n",
       "      <td>1020.0</td>\n",
       "      <td>1096.0</td>\n",
       "      <td>367.0</td>\n",
       "      <td>242.0</td>\n",
       "      <td>487.0</td>\n",
       "      <td>1347.0</td>\n",
       "      <td>1746.0</td>\n",
       "      <td>0.0</td>\n",
       "      <td>1.0</td>\n",
       "      <td>1951</td>\n",
       "      <td>2</td>\n",
       "      <td>33.485401</td>\n",
       "      <td>33.485401</td>\n",
       "      <td>44.434307</td>\n",
       "    </tr>\n",
       "    <tr>\n",
       "      <th>14</th>\n",
       "      <td>Team 19</td>\n",
       "      <td>27</td>\n",
       "      <td>1148.0</td>\n",
       "      <td>988.0</td>\n",
       "      <td>333.0</td>\n",
       "      <td>256.0</td>\n",
       "      <td>399.0</td>\n",
       "      <td>1182.0</td>\n",
       "      <td>1371.0</td>\n",
       "      <td>0.0</td>\n",
       "      <td>0.0</td>\n",
       "      <td>1960</td>\n",
       "      <td>3</td>\n",
       "      <td>33.704453</td>\n",
       "      <td>33.704453</td>\n",
       "      <td>40.384615</td>\n",
       "    </tr>\n",
       "  </tbody>\n",
       "</table>\n",
       "</div>"
      ],
      "text/plain": [
       "       Team  Tournament   Score  PlayedGames  WonGames  DrawnGames  LostGames  \\\n",
       "0    Team 1          86  4385.0       2762.0    1647.0       552.0      563.0   \n",
       "1    Team 2          86  4262.0       2762.0    1581.0       573.0      608.0   \n",
       "2    Team 3          80  3442.0       2614.0    1241.0       598.0      775.0   \n",
       "3    Team 5          86  3368.0       2762.0    1209.0       633.0      920.0   \n",
       "4    Team 4          82  3386.0       2664.0    1187.0       616.0      861.0   \n",
       "5    Team 6          73  2819.0       2408.0     990.0       531.0      887.0   \n",
       "6    Team 7          82  2792.0       2626.0     948.0       608.0     1070.0   \n",
       "7    Team 8          70  2573.0       2302.0     864.0       577.0      861.0   \n",
       "8    Team 9          58  2109.0       1986.0     698.0       522.0      766.0   \n",
       "9   Team 10          51  1884.0       1728.0     606.0       440.0      682.0   \n",
       "10  Team 12          51  1789.0       1698.0     586.0       389.0      723.0   \n",
       "11  Team 11          45  1814.0       1530.0     563.0       392.0      575.0   \n",
       "12  Team 18          38  1174.0       1192.0     408.0       292.0      492.0   \n",
       "13  Team 20          33  1020.0       1096.0     367.0       242.0      487.0   \n",
       "14  Team 19          27  1148.0        988.0     333.0       256.0      399.0   \n",
       "\n",
       "    BasketScored  BasketGiven  TournamentChampion  Runner-up  TeamLaunch  \\\n",
       "0         5947.0       3140.0                33.0       23.0        1929   \n",
       "1         5900.0       3114.0                25.0       25.0        1929   \n",
       "2         4534.0       3309.0                10.0        8.0        1929   \n",
       "3         4631.0       3700.0                 8.0        7.0        1929   \n",
       "4         4398.0       3469.0                 6.0        6.0        1931   \n",
       "5         3680.0       3373.0                 1.0        4.0        1934   \n",
       "6         3609.0       3889.0                 0.0        0.0        1929   \n",
       "7         3228.0       3230.0                 2.0        3.0        1929   \n",
       "8         2683.0       2847.0                 0.0        1.0        1939   \n",
       "9         2159.0       2492.0                 1.0        0.0        1932   \n",
       "10        2278.0       2624.0                 0.0        0.0        1939   \n",
       "11        2052.0       2188.0                 1.0        5.0        1941   \n",
       "12        1642.0       1951.0                 0.0        0.0        1933   \n",
       "13        1347.0       1746.0                 0.0        1.0        1951   \n",
       "14        1182.0       1371.0                 0.0        0.0        1960   \n",
       "\n",
       "    HighestPositionHeld        Won       Win%      Lose%  \n",
       "0                     1  59.630702  59.630702  20.383780  \n",
       "1                     1  57.241130  57.241130  22.013034  \n",
       "2                     1  47.475134  47.475134  29.648049  \n",
       "3                     1  43.772629  43.772629  33.309196  \n",
       "4                     1  44.557057  44.557057  32.319820  \n",
       "5                     1  41.112957  41.112957  36.835548  \n",
       "6                     3  36.100533  36.100533  40.746382  \n",
       "7                     1  37.532580  37.532580  37.402259  \n",
       "8                     2  35.146022  35.146022  38.569990  \n",
       "9                     1  35.069444  35.069444  39.467593  \n",
       "10                    4  34.511190  34.511190  42.579505  \n",
       "11                    1  36.797386  36.797386  37.581699  \n",
       "12                    3  34.228188  34.228188  41.275168  \n",
       "13                    2  33.485401  33.485401  44.434307  \n",
       "14                    3  33.704453  33.704453  40.384615  "
      ]
     },
     "execution_count": 31,
     "metadata": {},
     "output_type": "execute_result"
    }
   ],
   "source": [
    "df_intersect= pd.merge(df_winnings, df_winpercent, how='inner')\n",
    "df_intersect"
   ]
  },
  {
   "cell_type": "code",
   "execution_count": 34,
   "id": "1df19cde",
   "metadata": {},
   "outputs": [
    {
     "data": {
      "application/javascript": [
       "\n",
       "        if (window._pyforest_update_imports_cell) { window._pyforest_update_imports_cell('import numpy as np\\nimport pandas as pd\\nimport matplotlib.pyplot as plt\\nimport seaborn as sns'); }\n",
       "    "
      ],
      "text/plain": [
       "<IPython.core.display.Javascript object>"
      ]
     },
     "metadata": {},
     "output_type": "display_data"
    },
    {
     "data": {
      "application/javascript": [
       "\n",
       "        if (window._pyforest_update_imports_cell) { window._pyforest_update_imports_cell('import numpy as np\\nimport pandas as pd\\nimport matplotlib.pyplot as plt\\nimport seaborn as sns'); }\n",
       "    "
      ],
      "text/plain": [
       "<IPython.core.display.Javascript object>"
      ]
     },
     "metadata": {},
     "output_type": "display_data"
    },
    {
     "name": "stderr",
     "output_type": "stream",
     "text": [
      "C:\\Users\\arvsr\\AppData\\Local\\Temp\\ipykernel_39684\\1686196749.py:2: FutureWarning: The default value of numeric_only in DataFrame.corr is deprecated. In a future version, it will default to False. Select only valid columns or specify the value of numeric_only to silence this warning.\n",
      "  sns.heatmap(df_intersect.corr(),annot=True)\n"
     ]
    },
    {
     "data": {
      "text/plain": [
       "<Axes: >"
      ]
     },
     "execution_count": 34,
     "metadata": {},
     "output_type": "execute_result"
    },
    {
     "data": {
      "image/png": "[encoded data removed]",
      "text/plain": [
       "<Figure size 1500x800 with 2 Axes>"
      ]
     },
     "metadata": {},
     "output_type": "display_data"
    }
   ],
   "source": [
    "plt.figure(figsize=(15,8))\n",
    "sns.heatmap(df_intersect.corr(),annot=True)"
   ]
  },
  {
   "cell_type": "code",
   "execution_count": null,
   "id": "6ffd029a",
   "metadata": {},
   "outputs": [],
   "source": []
  },
  {
   "cell_type": "markdown",
   "id": "208a5faa",
   "metadata": {},
   "source": [
    "### Teams with highest baskets per match"
   ]
  },
  {
   "cell_type": "code",
   "execution_count": 35,
   "id": "c2e61494",
   "metadata": {},
   "outputs": [
    {
     "data": {
      "text/plain": [
       "0     2.153150\n",
       "1     2.136133\n",
       "2     1.734507\n",
       "3     1.676684\n",
       "4     1.650901\n",
       "5     1.528239\n",
       "6     1.374334\n",
       "7     1.402259\n",
       "8     1.350957\n",
       "9     1.249421\n",
       "10    1.341578\n",
       "11    1.341176\n",
       "12    1.377517\n",
       "13    1.229015\n",
       "14    1.196356\n",
       "Name: baskets_per_match, dtype: float64"
      ]
     },
     "execution_count": 35,
     "metadata": {},
     "output_type": "execute_result"
    }
   ],
   "source": [
    "df_intersect['baskets_per_match'] = df_intersect['BasketScored']/df_intersect['PlayedGames']\n",
    "df_intersect['baskets_per_match']"
   ]
  },
  {
   "cell_type": "code",
   "execution_count": 36,
   "id": "201c4da3",
   "metadata": {},
   "outputs": [
    {
     "data": {
      "application/javascript": [
       "\n",
       "        if (window._pyforest_update_imports_cell) { window._pyforest_update_imports_cell('import numpy as np\\nimport pandas as pd\\nimport matplotlib.pyplot as plt\\nimport seaborn as sns'); }\n",
       "    "
      ],
      "text/plain": [
       "<IPython.core.display.Javascript object>"
      ]
     },
     "metadata": {},
     "output_type": "display_data"
    },
    {
     "data": {
      "text/plain": [
       "<Axes: xlabel='Team', ylabel='baskets_per_match'>"
      ]
     },
     "execution_count": 36,
     "metadata": {},
     "output_type": "execute_result"
    },
    {
     "data": {
      "image/png": "[encoded data removed]",
      "text/plain": [
       "<Figure size 640x480 with 1 Axes>"
      ]
     },
     "metadata": {},
     "output_type": "display_data"
    }
   ],
   "source": [
    "sns.lineplot(x='Team', y='baskets_per_match', data=df_intersect.head(5))"
   ]
  },
  {
   "cell_type": "code",
   "execution_count": null,
   "id": "4c2176bb",
   "metadata": {},
   "outputs": [],
   "source": []
  },
  {
   "cell_type": "markdown",
   "id": "c7f5d1bb",
   "metadata": {},
   "source": [
    "### Analysing the Probability of a Team wining the game"
   ]
  },
  {
   "cell_type": "code",
   "execution_count": 38,
   "id": "8bb2da92",
   "metadata": {},
   "outputs": [],
   "source": [
    "df_winnings= df.nlargest(20, ['WonGames'])\n",
    "df_winnings['Win_Prob']= df_winnings['Win%']/100"
   ]
  },
  {
   "cell_type": "code",
   "execution_count": 39,
   "id": "a8653dda",
   "metadata": {},
   "outputs": [
    {
     "data": {
      "application/javascript": [
       "\n",
       "        if (window._pyforest_update_imports_cell) { window._pyforest_update_imports_cell('import numpy as np\\nimport pandas as pd\\nimport matplotlib.pyplot as plt\\nimport seaborn as sns'); }\n",
       "    "
      ],
      "text/plain": [
       "<IPython.core.display.Javascript object>"
      ]
     },
     "metadata": {},
     "output_type": "display_data"
    },
    {
     "data": {
      "application/javascript": [
       "\n",
       "        if (window._pyforest_update_imports_cell) { window._pyforest_update_imports_cell('import numpy as np\\nimport pandas as pd\\nimport matplotlib.pyplot as plt\\nimport seaborn as sns'); }\n",
       "    "
      ],
      "text/plain": [
       "<IPython.core.display.Javascript object>"
      ]
     },
     "metadata": {},
     "output_type": "display_data"
    },
    {
     "data": {
      "application/javascript": [
       "\n",
       "        if (window._pyforest_update_imports_cell) { window._pyforest_update_imports_cell('import numpy as np\\nimport pandas as pd\\nimport matplotlib.pyplot as plt\\nimport seaborn as sns'); }\n",
       "    "
      ],
      "text/plain": [
       "<IPython.core.display.Javascript object>"
      ]
     },
     "metadata": {},
     "output_type": "display_data"
    },
    {
     "data": {
      "image/png": "[encoded data removed]",
      "text/plain": [
       "<Figure size 1500x800 with 1 Axes>"
      ]
     },
     "metadata": {},
     "output_type": "display_data"
    }
   ],
   "source": [
    "plt.figure(figsize=(15,8))\n",
    "sns.lineplot( x='Team', y='Win_Prob',data=df_winnings.head(10))\n",
    "plt.show()"
   ]
  },
  {
   "cell_type": "code",
   "execution_count": 44,
   "id": "bdbf24ac",
   "metadata": {},
   "outputs": [
    {
     "data": {
      "text/html": [
       "<div>\n",
       "<style scoped>\n",
       "    .dataframe tbody tr th:only-of-type {\n",
       "        vertical-align: middle;\n",
       "    }\n",
       "\n",
       "    .dataframe tbody tr th {\n",
       "        vertical-align: top;\n",
       "    }\n",
       "\n",
       "    .dataframe thead th {\n",
       "        text-align: right;\n",
       "    }\n",
       "</style>\n",
       "<table border=\"1\" class=\"dataframe\">\n",
       "  <thead>\n",
       "    <tr style=\"text-align: right;\">\n",
       "      <th></th>\n",
       "      <th>Team</th>\n",
       "      <th>Tournament</th>\n",
       "      <th>Score</th>\n",
       "      <th>PlayedGames</th>\n",
       "      <th>WonGames</th>\n",
       "      <th>DrawnGames</th>\n",
       "      <th>LostGames</th>\n",
       "      <th>BasketScored</th>\n",
       "      <th>BasketGiven</th>\n",
       "      <th>TournamentChampion</th>\n",
       "      <th>Runner-up</th>\n",
       "      <th>TeamLaunch</th>\n",
       "      <th>HighestPositionHeld</th>\n",
       "      <th>Won</th>\n",
       "      <th>Win%</th>\n",
       "      <th>Lose%</th>\n",
       "    </tr>\n",
       "  </thead>\n",
       "  <tbody>\n",
       "    <tr>\n",
       "      <th>0</th>\n",
       "      <td>Team 1</td>\n",
       "      <td>86</td>\n",
       "      <td>4385.0</td>\n",
       "      <td>2762.0</td>\n",
       "      <td>1647.0</td>\n",
       "      <td>552.0</td>\n",
       "      <td>563.0</td>\n",
       "      <td>5947.0</td>\n",
       "      <td>3140.0</td>\n",
       "      <td>33.0</td>\n",
       "      <td>23.0</td>\n",
       "      <td>1929</td>\n",
       "      <td>1</td>\n",
       "      <td>59.630702</td>\n",
       "      <td>59.630702</td>\n",
       "      <td>20.383780</td>\n",
       "    </tr>\n",
       "    <tr>\n",
       "      <th>1</th>\n",
       "      <td>Team 2</td>\n",
       "      <td>86</td>\n",
       "      <td>4262.0</td>\n",
       "      <td>2762.0</td>\n",
       "      <td>1581.0</td>\n",
       "      <td>573.0</td>\n",
       "      <td>608.0</td>\n",
       "      <td>5900.0</td>\n",
       "      <td>3114.0</td>\n",
       "      <td>25.0</td>\n",
       "      <td>25.0</td>\n",
       "      <td>1929</td>\n",
       "      <td>1</td>\n",
       "      <td>57.241130</td>\n",
       "      <td>57.241130</td>\n",
       "      <td>22.013034</td>\n",
       "    </tr>\n",
       "  </tbody>\n",
       "</table>\n",
       "</div>"
      ],
      "text/plain": [
       "     Team  Tournament   Score  PlayedGames  WonGames  DrawnGames  LostGames  \\\n",
       "0  Team 1          86  4385.0       2762.0    1647.0       552.0      563.0   \n",
       "1  Team 2          86  4262.0       2762.0    1581.0       573.0      608.0   \n",
       "\n",
       "   BasketScored  BasketGiven  TournamentChampion  Runner-up TeamLaunch  \\\n",
       "0        5947.0       3140.0                33.0       23.0       1929   \n",
       "1        5900.0       3114.0                25.0       25.0       1929   \n",
       "\n",
       "   HighestPositionHeld        Won       Win%      Lose%  \n",
       "0                    1  59.630702  59.630702  20.383780  \n",
       "1                    1  57.241130  57.241130  22.013034  "
      ]
     },
     "execution_count": 44,
     "metadata": {},
     "output_type": "execute_result"
    }
   ],
   "source": [
    "df.head(2)"
   ]
  },
  {
   "cell_type": "code",
   "execution_count": 46,
   "id": "4dd1669c",
   "metadata": {},
   "outputs": [
    {
     "data": {
      "text/plain": [
       "array(['1929', '1931', '1934', '1939', '1932', '1941', '1948', '1944',\n",
       "       '1935', '1949', '1933', '1960', '1951', '1998', '1977', '1959',\n",
       "       '2004', '1961', '1940', '1930', '1963', '1974', '1943', '1987',\n",
       "       '1991', '2007', '1962', '1994', '1978', '1971', '1999', '2014',\n",
       "       '1990', '1947', '1996', '1995', '1945', '1953', '1979', '1950',\n",
       "       '2016', '2009', '1956', '1955', '2017'], dtype=object)"
      ]
     },
     "execution_count": 46,
     "metadata": {},
     "output_type": "execute_result"
    }
   ],
   "source": [
    "df['TeamLaunch'].unique()"
   ]
  },
  {
   "cell_type": "code",
   "execution_count": 48,
   "id": "26533a71",
   "metadata": {},
   "outputs": [
    {
     "data": {
      "text/plain": [
       "1929    10\n",
       "1941     3\n",
       "1963     2\n",
       "1977     2\n",
       "1935     2\n",
       "1951     2\n",
       "1939     2\n",
       "2009     1\n",
       "1996     1\n",
       "1978     1\n",
       "1971     1\n",
       "1999     1\n",
       "1955     1\n",
       "2014     1\n",
       "1990     1\n",
       "1947     1\n",
       "1995     1\n",
       "2016     1\n",
       "1945     1\n",
       "1962     1\n",
       "1953     1\n",
       "1979     1\n",
       "1950     1\n",
       "1956     1\n",
       "1994     1\n",
       "1943     1\n",
       "2007     1\n",
       "1998     1\n",
       "1934     1\n",
       "1932     1\n",
       "1948     1\n",
       "1944     1\n",
       "1949     1\n",
       "1933     1\n",
       "1960     1\n",
       "1959     1\n",
       "1991     1\n",
       "2004     1\n",
       "1961     1\n",
       "1940     1\n",
       "1930     1\n",
       "1974     1\n",
       "1931     1\n",
       "1987     1\n",
       "2017     1\n",
       "Name: TeamLaunch, dtype: int64"
      ]
     },
     "execution_count": 48,
     "metadata": {},
     "output_type": "execute_result"
    }
   ],
   "source": [
    "df['TeamLaunch'].value_counts()"
   ]
  },
  {
   "cell_type": "code",
   "execution_count": null,
   "id": "9412a0fe",
   "metadata": {},
   "outputs": [],
   "source": [
    "-year and team launch"
   ]
  },
  {
   "cell_type": "code",
   "execution_count": 47,
   "id": "4ebd75b6",
   "metadata": {},
   "outputs": [
    {
     "data": {
      "application/javascript": [
       "\n",
       "        if (window._pyforest_update_imports_cell) { window._pyforest_update_imports_cell('import numpy as np\\nimport pandas as pd\\nimport matplotlib.pyplot as plt\\nimport seaborn as sns'); }\n",
       "    "
      ],
      "text/plain": [
       "<IPython.core.display.Javascript object>"
      ]
     },
     "metadata": {},
     "output_type": "display_data"
    },
    {
     "data": {
      "text/plain": [
       "<Axes: xlabel='TeamLaunch', ylabel='Team'>"
      ]
     },
     "execution_count": 47,
     "metadata": {},
     "output_type": "execute_result"
    },
    {
     "data": {
      "image/png": "[encoded data removed]",
      "text/plain": [
       "<Figure size 640x480 with 1 Axes>"
      ]
     },
     "metadata": {},
     "output_type": "display_data"
    }
   ],
   "source": [
    "sns.scatterplot(data=df_intersect,x='TeamLaunch',y='Team')"
   ]
  },
  {
   "cell_type": "markdown",
   "id": "1655b5cd",
   "metadata": {},
   "source": [
    "Most of the teams were formed in the year 1929. This graph shows highest winning teams which were launched between 1929 to 1960's."
   ]
  },
  {
   "cell_type": "code",
   "execution_count": null,
   "id": "8e07ba30",
   "metadata": {},
   "outputs": [],
   "source": []
  },
  {
   "cell_type": "code",
   "execution_count": 40,
   "id": "c6ec05df",
   "metadata": {},
   "outputs": [
    {
     "data": {
      "text/html": [
       "<div>\n",
       "<style scoped>\n",
       "    .dataframe tbody tr th:only-of-type {\n",
       "        vertical-align: middle;\n",
       "    }\n",
       "\n",
       "    .dataframe tbody tr th {\n",
       "        vertical-align: top;\n",
       "    }\n",
       "\n",
       "    .dataframe thead th {\n",
       "        text-align: right;\n",
       "    }\n",
       "</style>\n",
       "<table border=\"1\" class=\"dataframe\">\n",
       "  <thead>\n",
       "    <tr style=\"text-align: right;\">\n",
       "      <th></th>\n",
       "      <th>Team</th>\n",
       "      <th>Win%</th>\n",
       "      <th>WonGames</th>\n",
       "    </tr>\n",
       "  </thead>\n",
       "  <tbody>\n",
       "    <tr>\n",
       "      <th>0</th>\n",
       "      <td>Team 1</td>\n",
       "      <td>59.630702</td>\n",
       "      <td>1647.0</td>\n",
       "    </tr>\n",
       "    <tr>\n",
       "      <th>1</th>\n",
       "      <td>Team 2</td>\n",
       "      <td>57.241130</td>\n",
       "      <td>1581.0</td>\n",
       "    </tr>\n",
       "    <tr>\n",
       "      <th>2</th>\n",
       "      <td>Team 3</td>\n",
       "      <td>47.475134</td>\n",
       "      <td>1241.0</td>\n",
       "    </tr>\n",
       "    <tr>\n",
       "      <th>3</th>\n",
       "      <td>Team 5</td>\n",
       "      <td>43.772629</td>\n",
       "      <td>1209.0</td>\n",
       "    </tr>\n",
       "    <tr>\n",
       "      <th>4</th>\n",
       "      <td>Team 4</td>\n",
       "      <td>44.557057</td>\n",
       "      <td>1187.0</td>\n",
       "    </tr>\n",
       "    <tr>\n",
       "      <th>5</th>\n",
       "      <td>Team 6</td>\n",
       "      <td>41.112957</td>\n",
       "      <td>990.0</td>\n",
       "    </tr>\n",
       "    <tr>\n",
       "      <th>6</th>\n",
       "      <td>Team 7</td>\n",
       "      <td>36.100533</td>\n",
       "      <td>948.0</td>\n",
       "    </tr>\n",
       "    <tr>\n",
       "      <th>7</th>\n",
       "      <td>Team 8</td>\n",
       "      <td>37.532580</td>\n",
       "      <td>864.0</td>\n",
       "    </tr>\n",
       "    <tr>\n",
       "      <th>8</th>\n",
       "      <td>Team 9</td>\n",
       "      <td>35.146022</td>\n",
       "      <td>698.0</td>\n",
       "    </tr>\n",
       "    <tr>\n",
       "      <th>9</th>\n",
       "      <td>Team 10</td>\n",
       "      <td>35.069444</td>\n",
       "      <td>606.0</td>\n",
       "    </tr>\n",
       "    <tr>\n",
       "      <th>10</th>\n",
       "      <td>Team 12</td>\n",
       "      <td>34.511190</td>\n",
       "      <td>586.0</td>\n",
       "    </tr>\n",
       "    <tr>\n",
       "      <th>11</th>\n",
       "      <td>Team 11</td>\n",
       "      <td>36.797386</td>\n",
       "      <td>563.0</td>\n",
       "    </tr>\n",
       "    <tr>\n",
       "      <th>12</th>\n",
       "      <td>Team 18</td>\n",
       "      <td>34.228188</td>\n",
       "      <td>408.0</td>\n",
       "    </tr>\n",
       "    <tr>\n",
       "      <th>13</th>\n",
       "      <td>Team 20</td>\n",
       "      <td>33.485401</td>\n",
       "      <td>367.0</td>\n",
       "    </tr>\n",
       "    <tr>\n",
       "      <th>14</th>\n",
       "      <td>Team 19</td>\n",
       "      <td>33.704453</td>\n",
       "      <td>333.0</td>\n",
       "    </tr>\n",
       "  </tbody>\n",
       "</table>\n",
       "</div>"
      ],
      "text/plain": [
       "       Team       Win%  WonGames\n",
       "0    Team 1  59.630702    1647.0\n",
       "1    Team 2  57.241130    1581.0\n",
       "2    Team 3  47.475134    1241.0\n",
       "3    Team 5  43.772629    1209.0\n",
       "4    Team 4  44.557057    1187.0\n",
       "5    Team 6  41.112957     990.0\n",
       "6    Team 7  36.100533     948.0\n",
       "7    Team 8  37.532580     864.0\n",
       "8    Team 9  35.146022     698.0\n",
       "9   Team 10  35.069444     606.0\n",
       "10  Team 12  34.511190     586.0\n",
       "11  Team 11  36.797386     563.0\n",
       "12  Team 18  34.228188     408.0\n",
       "13  Team 20  33.485401     367.0\n",
       "14  Team 19  33.704453     333.0"
      ]
     },
     "execution_count": 40,
     "metadata": {},
     "output_type": "execute_result"
    }
   ],
   "source": [
    "df_intersect[['Team', 'Win%', 'WonGames']]"
   ]
  },
  {
   "cell_type": "markdown",
   "id": "cdf35d20",
   "metadata": {},
   "source": [
    "### we can conclude that the Company management can approach any of the top 5 teams which will be a deal win for them."
   ]
  },
  {
   "cell_type": "markdown",
   "id": "73b2d15a",
   "metadata": {},
   "source": [
    "#### 3.  Please include any improvements or suggestions to the association management on quality, quantity, variety, velocity,veracity etc. on the data points collected by the association to perform a better data analysis in future.Submit a 200-500 words report to the management."
   ]
  },
  {
   "cell_type": "markdown",
   "id": "73002ae0",
   "metadata": {},
   "source": [
    "In light of the extensive data points that have been collected for the basketball dataset, few recommendations for improving the quality, quantity, variety, velocity, and veracity of the data. These suggestions, when implemented, will lead to a more accurate and valuable data analysis in the future."
   ]
  },
  {
   "cell_type": "markdown",
   "id": "1b148d05",
   "metadata": {},
   "source": [
    "1. Quality: To improve the quality of data, it is essential to ensure that the data is accurate, consistent, and complete. Here are a few suggestions to achieve this:\n",
    "   a) Standardizing Data: Ensure that the data is standardized and formatted consistently across all sources. This will make it easier to clean and analyze the data.\n",
    "\n",
    "   b) Data Cleansing: Address any duplicates, errors, or missing values in the data. Use Python libraries like Pandas and Numpy to remove such issues.\n",
    "\n",
    "   c) Data Validation: Develop validation mechanisms to check that the data being entered adheres to the specified format and is within acceptable ranges. This indicator would help prevent inconsistent and incomplete data from being entered.\n",
    "\n",
    "2) Quantity: The basketball dataset is of significant size, but there are possibilities to grow its size through additional data sources. Here's what we recommend:\n",
    "\n",
    "   a) Data Stitching: Combine the data from various sources to create a more comprehensive and valuable dataset. This provides us with extensive data analysis, thereby not allowing the data analysts to limit their research and analysis.\n",
    "\n",
    "\n",
    "3) Variety: The variety of data is how comprehensive the data points are in terms of their characteristics. To improve variety and richness, it is necessary to factor in the following:\n",
    "\n",
    "   a) Add non-Numeric Data: Consistently collecting qualitative data points like team strategy, behavior, conditions, locations, and other vital factors to further enrich the data.\n",
    "\n",
    "   b) Time Series Data: Besides numerical and categorical data, obtain time-series data for each game, allowing detailed insights into trends over time.\n",
    "\n",
    "\n",
    "4) Velocity: Data velocity is the speed at which data is flowing into the system. Here's what we suggest:\n",
    "\n",
    "   a) Real-time Analytics: It would be best to upgrade our data analysis infrastructure to deliver near-real-time analysis during matches.\n",
    "\n",
    "5) Veracity: Defining the veracity of data refers to how trustworthy and reliable it is—the confidence level attached to the data. This can be done by:\n",
    "\n",
    "   a) Data Provenance: Ensure that data sources are credible, authentic, and have a confident pedigree.\n",
    "\n",
    "   b) Data Governance: Provide data access controls to appropriate personnel and audit trails. Ensure data lineage and traceability."
   ]
  },
  {
   "cell_type": "markdown",
   "id": "6a264db8",
   "metadata": {},
   "source": [
    "By implementing these suggestions, we can significantly improve the NBA basketball dataset's overall quality, quantity, variety, velocity, and veracity. The mission ahead would result in a vastly superior data structure for analysis, insight, and recommendation-making."
   ]
  }
 ],
 "metadata": {
  "kernelspec": {
   "display_name": "Python 3 (ipykernel)",
   "language": "python",
   "name": "python3"
  },
  "language_info": {
   "codemirror_mode": {
    "name": "ipython",
    "version": 3
   },
   "file_extension": ".py",
   "mimetype": "text/x-python",
   "name": "python",
   "nbconvert_exporter": "python",
   "pygments_lexer": "ipython3",
   "version": "3.10.9"
  }
 },
 "nbformat": 4,
 "nbformat_minor": 5
}
